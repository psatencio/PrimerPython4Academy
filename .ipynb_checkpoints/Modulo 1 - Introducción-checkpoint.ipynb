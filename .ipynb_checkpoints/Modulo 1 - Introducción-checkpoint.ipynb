{
  "cells": [
    {
      "metadata": {},
      "cell_type": "markdown",
      "source": "<img src=\"http://www.redttu.edu.co/es/wp-content/uploads/2016/01/itm.png\" alt=\"drawing\" width=\"400\"/>\n\n<hr>\n\nPedro Atencio - 2019"
    },
    {
      "metadata": {},
      "cell_type": "markdown",
      "source": "<hr>\n\n# Modulo 1 - Introducción\n- Escribiendo y ejecutando un programa simple en Python.\n- Herramientas y formas de ejecución de programas en Python.\n    - Ipython + Jupyter notebooks.\n    - Git.\n    - Markdown / Python.\n- Espacios de trabajo: ¿Local o en la nube? \n- Tipos de datos. \n- Operadores aritmeticos.\n- Expresiones y variables + Naming conventions.\n- En Python todos los elementos son objetos.\n- Palabras reservadas.\n- Comentarios.\n- Printing: Estructuración y formato.\n- Notas técnicas:\n    - División entera y flotante.\n    - __future__ division\n- Importación de librerias.\n- Ejercicios."
    },
    {
      "metadata": {},
      "cell_type": "markdown",
      "source": "<hr>\n# Sesión 1\n\n## 1. Implementemos algunas formulas\n\n<hr>\n\n### Ejemplo 1: Segunda ley de Newton\n<br>\n<font size=3>A partir de la segunda ley de Newton se pueder derivar un modelo para el determinar la posición vertical ($y$) de un objeto en caida libre para el instante $t$, sabiendo su velocidad inicial $V_0$:</font>\n\n<br>\n<center>\n    <font size=5>$y(t) = v_0t-\\frac{1}{2}gt^2$</font>\n</center>"
    },
    {
      "metadata": {
        "trusted": true
      },
      "cell_type": "code",
      "source": "g = 9.8 #la constante de gravedad\nv0 = 2.4 #velocidad inicial\nt = 5. #tiempo para el que se desea saber la altura\ny = v0*t - (1./2.)*g*t**2\n\nprint(y)",
      "execution_count": 56,
      "outputs": [
        {
          "output_type": "stream",
          "text": "-110.5\n",
          "name": "stdout"
        }
      ]
    },
    {
      "metadata": {},
      "cell_type": "markdown",
      "source": "<hr>\n\n### Ejemplo 2: Raíces de una ecuación cuadrática\n\n- De la forma $y = ax^2+bx+c$\n\nEn este punto solo nos interesa implementar la formula de las raíces, sin considerar las validaciones que se requieren. \n\n<br>\n\n<font size=5>\n\n   <center> $\\frac{-b \\pm \\sqrt{b^2-4ac}}{2a}$ </center>\n    \n</font>"
    },
    {
      "metadata": {
        "trusted": true
      },
      "cell_type": "code",
      "source": "#definamos las variables a, b y c\na = 1.\nb = 4.\nc = 2.",
      "execution_count": 66,
      "outputs": []
    },
    {
      "metadata": {
        "trusted": true
      },
      "cell_type": "code",
      "source": "r1 = (-b + (b**2 - 4*a*c)**(0.5)) / (2*a) #raiz 1",
      "execution_count": 67,
      "outputs": []
    },
    {
      "metadata": {
        "trusted": true
      },
      "cell_type": "code",
      "source": "r2 = (-b - (b**2 - 4*a*c)**(0.5)) / (2*a) #raiz 2",
      "execution_count": 68,
      "outputs": []
    },
    {
      "metadata": {
        "trusted": true
      },
      "cell_type": "code",
      "source": "print(\"Primera raiz: \", r1) #concatenacion de string y valor numerico\nprint(\"Segunda raiz: \", r2) #concatenacion de string y valor numerico",
      "execution_count": 69,
      "outputs": [
        {
          "output_type": "stream",
          "text": "('Primera raiz: ', -0.5857864376269049)\n('Segunda raiz: ', -3.414213562373095)\n",
          "name": "stdout"
        }
      ]
    },
    {
      "metadata": {},
      "cell_type": "markdown",
      "source": "<hr>\n\n## 2. Tipos de datos\n\nPython es un lenguaje de computación general, interpretado y de tipado dinámico:\n- Interpretado: no se compila a código máquina directamente.\n- Tipado dinámico: No requiere definir el tipo de dato de la variables o constantes que se manejen.\n\nLos principales tipos de datos son:\n\n1. Enteros.\n2. Reales: Double, Single, Float.\n3. Complejos.\n4. Strings."
    },
    {
      "metadata": {
        "trusted": true
      },
      "cell_type": "code",
      "source": "a = 1 #entero\nb = 2.45 #real\nc = 2+4j #complejo\nd = 'a' #String\ne = 'Hola mundo' #String\ne1 = \"Hola mundo\" #String",
      "execution_count": 70,
      "outputs": []
    },
    {
      "metadata": {},
      "cell_type": "markdown",
      "source": "<hr>\n\nLa función __type__ de Python, nos permite preguntar por el tipo de dato de una variable.\n\n<hr>"
    },
    {
      "metadata": {
        "trusted": true
      },
      "cell_type": "code",
      "source": "print(type(a))\nprint(type(b))\nprint(type(c))\nprint(type(d))\nprint(type(e))\nprint(type(e1))",
      "execution_count": 71,
      "outputs": [
        {
          "output_type": "stream",
          "text": "<type 'int'>\n<type 'float'>\n<type 'complex'>\n<type 'str'>\n<type 'str'>\n<type 'str'>\n",
          "name": "stdout"
        }
      ]
    },
    {
      "metadata": {},
      "cell_type": "markdown",
      "source": "<hr>\n\n## Todo en Python son objetos\n\nTodo en Python es un objeto, esto es, todo dato tiene:\n\n1. Atributos.\n2. Funciones.\n\nPodemos consultar los métodos de un tipo de datos, accediendo a la documentación de Python. Por ejemplo, para los Strings: https://docs.python.org/2/library/string.html"
    },
    {
      "metadata": {
        "trusted": true
      },
      "cell_type": "code",
      "source": "msg = \"That is not dead which can eternal lie, And with strange aeons even death may die\"\n\nprint(msg.count('a')) #contar las letras a. .Count es un metodo del tipo de datos String",
      "execution_count": 79,
      "outputs": [
        {
          "output_type": "stream",
          "text": "8\n",
          "name": "stdout"
        }
      ]
    },
    {
      "metadata": {
        "trusted": true
      },
      "cell_type": "code",
      "source": "numComplejo = 4+3j\n\nprint(numComplejo.real) #.real y .imag son atributos del tipo de datos Complex\nprint(numComplejo.imag)",
      "execution_count": 80,
      "outputs": [
        {
          "output_type": "stream",
          "text": "4.0\n3.0\n",
          "name": "stdout"
        }
      ]
    },
    {
      "metadata": {},
      "cell_type": "markdown",
      "source": "<hr>\n\n## 3. Naming\n\nPor convención(que no se requiere, pero la mayoría estamos de acuerdo):\n\n- Las constantes se escriben en mayúscula, por ejemplo, PI.\n- Las variables se escriben utilizando notación <a href=\"https://en.wikipedia.org/wiki/Camel_case \">CamelCase</a>, por ejemplo, estaEsMiVariable."
    },
    {
      "metadata": {
        "trusted": true
      },
      "cell_type": "code",
      "source": "#Constantes en mayusculas\nPI = 3.1416\n\n#Variables: CamelCase\nestoEsMiVariable = 12.3",
      "execution_count": 81,
      "outputs": []
    },
    {
      "metadata": {},
      "cell_type": "markdown",
      "source": "## 4.  Palabras Reservadas\n\nTodo lenguaje de programación tiene palabras que son de uso privativo del mismo, es decir, que no conveniente y en algunos casos imposible, utilizarlas, por ejemplo:\n\n- sqrt: raiz cuadrada.\n- sin, cos, tan, etc.\n- for, while, if, else, etc.\n"
    },
    {
      "metadata": {
        "trusted": true
      },
      "cell_type": "code",
      "source": "from math import sqrt\n\nsqrt = 4**(1./2.)\n\nprint(sqrt)\n\nprint(sqrt(4)) #error en el llamado de funcion...ahora sqrt es una variable",
      "execution_count": 1,
      "outputs": [
        {
          "output_type": "stream",
          "text": "2.0\n",
          "name": "stdout"
        },
        {
          "output_type": "error",
          "ename": "TypeError",
          "evalue": "'float' object is not callable",
          "traceback": [
            "\u001b[0;31m\u001b[0m",
            "\u001b[0;31mTypeError\u001b[0mTraceback (most recent call last)",
            "\u001b[0;32m<ipython-input-1-98bb27ebfa04>\u001b[0m in \u001b[0;36m<module>\u001b[0;34m()\u001b[0m\n\u001b[1;32m      5\u001b[0m \u001b[0;32mprint\u001b[0m\u001b[0;34m(\u001b[0m\u001b[0msqrt\u001b[0m\u001b[0;34m)\u001b[0m\u001b[0;34m\u001b[0m\u001b[0m\n\u001b[1;32m      6\u001b[0m \u001b[0;34m\u001b[0m\u001b[0m\n\u001b[0;32m----> 7\u001b[0;31m \u001b[0;32mprint\u001b[0m\u001b[0;34m(\u001b[0m\u001b[0msqrt\u001b[0m\u001b[0;34m(\u001b[0m\u001b[0;36m4\u001b[0m\u001b[0;34m)\u001b[0m\u001b[0;34m)\u001b[0m \u001b[0;31m#error en el llamado de funcion...ahora sqrt es una variable\u001b[0m\u001b[0;34m\u001b[0m\u001b[0m\n\u001b[0m",
            "\u001b[0;31mTypeError\u001b[0m: 'float' object is not callable"
          ]
        }
      ]
    },
    {
      "metadata": {},
      "cell_type": "markdown",
      "source": "## 5. Trabajo en casa \n\nEncontrar __2 o más__ funciones IMPORTANTES para la(s) asignatura(s) que usted dirije e implementar la función en Latex y en Python. Por ejemplo:\n\n<br>\n\n<center>\n\n       <font size=5> $\\underset{\\Delta x \\rightarrow 0}{f'(x)} = \\frac{f(x+\\Delta x) - f(x)}{\\Delta x}$ </font>\n       \n\n</center>"
    },
    {
      "metadata": {
        "trusted": true
      },
      "cell_type": "code",
      "source": "#f(x) = x**2\n\nx = 2\ndeltaX = 0.000002 #tiende a cero\n\nfp = ((x+deltaX)**2 - x**2) / deltaX\n\nchange = fp / x",
      "execution_count": 2,
      "outputs": []
    },
    {
      "metadata": {
        "trusted": true
      },
      "cell_type": "code",
      "source": "print(\"El cambio de la funcion f(x) = x^2 para x = \",2,\" fue: \", round(change)) #Printing con argumento\nprint(\"El cambio de la funcion f(x) = x^2 para x = \"+str(2)+\" fue: \"+str(round(change))) #Printing con concatenacion de Strings",
      "execution_count": 3,
      "outputs": [
        {
          "output_type": "stream",
          "text": "('El cambio de la funcion f(x) = x^2 para x = ', 2, ' fue: ', 2.0)\nEl cambio de la funcion f(x) = x^2 para x = 2 fue: 2.0\n",
          "name": "stdout"
        }
      ]
    },
    {
      "metadata": {
        "trusted": true
      },
      "cell_type": "markdown",
      "source": "<hr>\n# Sesion 2\n\n## Contenido:\n- Aritmetical operators\n- Palabras reservadas.\n- Comentarios.\n    - Single line / multiline.\n    - docstring: https://en.wikipedia.org/wiki/Docstring\n- printing:\n    - Multiple arguments vs string concatenation.\n    - Formatting numbers: real numbers, scientific notation.\n    - The new line character.\n    - Multiline printing.\n- Multiple line statements.\n- Float and Integer division (9/5 C + 32).\n    - Avoiding: from  __future__ import  division\n- Standard mathematical function.\n- Importing libraries (log as ln).\n- Type conversion (casting).\n- Ejercicios.\n"
    },
    {
      "metadata": {},
      "cell_type": "markdown",
      "source": "<img src=\"res/printing_notation.png\" alt=\"drawing\" width=\"400\"/>"
    },
    {
      "metadata": {},
      "cell_type": "markdown",
      "source": "__Recordemos__:\n\nLa jerarquia de operadores aritméticos es la siguiente:\n\n1. $()$: parentesis.\n2. $**$ : potencia.\n3. $* /$ % : multiplicación, división y módulo.\n4. $+ -$ : suma y resta."
    },
    {
      "metadata": {
        "trusted": true
      },
      "cell_type": "code",
      "source": "#Jerarquia\n#()\n# **\n# * / %\n# + -\n\na = -5\nb = 7\nc = a + b + 4 #suma de dos variables a y b mas un literal 4\nd = a / b #division\ne = 2**4 #2^4\nf = 4 % 2\n\na = 2**(2+4)",
      "execution_count": 4,
      "outputs": []
    },
    {
      "metadata": {},
      "cell_type": "markdown",
      "source": "## Palabras reservadas\n\nAlgunas palabras no puedes / deben ser utilizadas en la definición de elementos dentro del programa, pues Python las conserva reservadas para ciertas funciones. Algunos casos son: *if, for, while, import, from, True, False, etc*: https://www.programiz.com/python-programming/keywords-identifier"
    },
    {
      "metadata": {
        "trusted": true
      },
      "cell_type": "code",
      "source": "for = 2",
      "execution_count": 5,
      "outputs": [
        {
          "output_type": "error",
          "ename": "SyntaxError",
          "evalue": "invalid syntax (<ipython-input-5-81f260bd2c61>, line 1)",
          "traceback": [
            "\u001b[0;36m  File \u001b[0;32m\"<ipython-input-5-81f260bd2c61>\"\u001b[0;36m, line \u001b[0;32m1\u001b[0m\n\u001b[0;31m    for = 2\u001b[0m\n\u001b[0m        ^\u001b[0m\n\u001b[0;31mSyntaxError\u001b[0m\u001b[0;31m:\u001b[0m invalid syntax\n"
          ]
        }
      ]
    },
    {
      "metadata": {
        "trusted": true
      },
      "cell_type": "code",
      "source": "True = 10\nTrue = not(False)\n\nprint True",
      "execution_count": 5,
      "outputs": [
        {
          "output_type": "stream",
          "text": "True\n",
          "name": "stdout"
        }
      ]
    },
    {
      "metadata": {
        "trusted": true
      },
      "cell_type": "markdown",
      "source": "## Naming: Convención para nombrar\n\nUsualmente la convención utilizada para nombrar elementos dentro del programa es:\n\n- Constantes en mayúscula.\n- Variables en minúscula, <a href=\"https://en.wikipedia.org/wiki/CamelCase\">CamelCase</a> o de la forma $<palabra_1>\\_<palabra_2>\\_<palabra_n>$:\n    - peso, pesoPersona, peso_persona."
    },
    {
      "metadata": {
        "trusted": true
      },
      "cell_type": "code",
      "source": "#Constantes\nPI = 3.1416\nALPHA = 3.45\nEPSILON = 0.0000000001\n\n#Variables\n#1. nombres sean de una sola palabra\naltura = 180\npeso = 80\n\n#2. nombres de mas de una palabra CamelCase (notacion camello)\nalturaEstudiante = 150\nvelocidadInicial = 2.4\n\nestudiantesInscritosEnElCursoDePython = 25",
      "execution_count": 6,
      "outputs": []
    },
    {
      "metadata": {},
      "cell_type": "markdown",
      "source": "## Comentarios\n\nLos comentarios son útiles para documentar el código. Principalmente:\n\n- __Single line__: utilizando el operador #\n- __Multiple line__: de la forma $\"\"\" lineas comentadas \"\"\"$\n\nLa documentación <a href=\"https://en.wikipedia.org/wiki/Docstring\">docstring</a> es muy útil para generar ayudas interactivas para las funciones del programa."
    },
    {
      "metadata": {
        "trusted": true
      },
      "cell_type": "code",
      "source": "a = 10 #numero de estudiantes\n\n'''\nEsto es\nun comentario\nde multiple\nlinea\n'''\n\n\"\"\"\nEsto es\nun comentario\nde multiple\nlinea\n\"\"\"",
      "execution_count": 7,
      "outputs": [
        {
          "output_type": "execute_result",
          "execution_count": 7,
          "data": {
            "text/plain": "'\\nEsto es\\nun comentario\\nde multiple\\nlinea\\n'"
          },
          "metadata": {}
        }
      ]
    },
    {
      "metadata": {
        "trusted": true
      },
      "cell_type": "code",
      "source": "alturaEstudiante = 180 #single line\n\n# multiple line\n\"\"\"\nif(alturaEstudiante < 170):\n    print(\"a\")\nelse:\n    print(\"b\")\n\"\"\"\n\n#docstring: estandar de documentacion de codigo",
      "execution_count": 43,
      "outputs": [
        {
          "output_type": "execute_result",
          "execution_count": 43,
          "data": {
            "text/plain": "'\\nif(alturaEstudiante < 170):\\n    print(\"a\")\\nelse:\\n    print(\"b\")\\n'"
          },
          "metadata": {}
        }
      ]
    },
    {
      "metadata": {
        "trusted": true
      },
      "cell_type": "code",
      "source": "def area(r):\n    '''\n    Funcion que calcula el area de un circulo.\n    \n    Input:\n        r = radio - adimensional.\n    Output:\n        area - unidades del radio al cuadrado.\n    '''\n    PI = 3.1416\n    a = PI * r**2\n    return a",
      "execution_count": 9,
      "outputs": []
    },
    {
      "metadata": {
        "trusted": true
      },
      "cell_type": "code",
      "source": "??area #documentacion interactiva",
      "execution_count": 10,
      "outputs": []
    },
    {
      "metadata": {
        "trusted": true
      },
      "cell_type": "code",
      "source": "from scipy.signal import bspline",
      "execution_count": 15,
      "outputs": []
    },
    {
      "metadata": {
        "trusted": true
      },
      "cell_type": "code",
      "source": "??bspline",
      "execution_count": 16,
      "outputs": []
    },
    {
      "metadata": {
        "trusted": true
      },
      "cell_type": "code",
      "source": "#Ejemplo de documentacion tipo DOCSTRING\n\ndef IMC(altura, peso):\n    \"\"\"\n    Input: \n        altura: flotante. de la altura de la persona en metros.\n        peso: flotante. peso de la persona el kilogramos.\n        \n    Output:\n        retorna el indice de masa corporal de la persona.\n    \"\"\"\n    \n    return peso / altura**2",
      "execution_count": 47,
      "outputs": []
    },
    {
      "metadata": {
        "trusted": true
      },
      "cell_type": "code",
      "source": "??IMC #Consulta de la documentacion de una funcion",
      "execution_count": 48,
      "outputs": []
    },
    {
      "metadata": {},
      "cell_type": "markdown",
      "source": "## Input y Printing"
    },
    {
      "metadata": {
        "trusted": true
      },
      "cell_type": "code",
      "source": "a = 3.1416\n\nr = float(input(\"Ingrese el radio\"))\n\n#r = 2\n\nb = a*r**2\nmensaje = \"El area del circulo con radio: , es:\"\n\nprint(\"El area del circulo con radio:\",r,\", es: \",b) \n\nprint(\"El area del \\t circulo con radio: %f, es: %.2f\"%(r,b)) #caracteres especiales",
      "execution_count": 39,
      "outputs": [
        {
          "output_type": "stream",
          "name": "stdout",
          "text": "Ingrese el radio12\n('El area del circulo con radio:', 12.0, ', es: ', 452.3904)\nEl area del \t circulo con radio: 12.000000, es: 452.39\n"
        }
      ]
    },
    {
      "metadata": {
        "trusted": true
      },
      "cell_type": "code",
      "source": "print \"\"\"\nEsto \nes un\nmensaje\nmultilinea\n%.3f\n\"\"\"%(r)",
      "execution_count": 41,
      "outputs": [
        {
          "output_type": "stream",
          "text": "\nEsto \nes un\nmensaje\nmultilinea\n12.000\n\n",
          "name": "stdout"
        }
      ]
    },
    {
      "metadata": {
        "trusted": true
      },
      "cell_type": "code",
      "source": "a = input(\"test\")\n\nprint(type(a))",
      "execution_count": 36,
      "outputs": [
        {
          "output_type": "stream",
          "name": "stdout",
          "text": "test3.1416\n<type 'float'>\n"
        }
      ]
    },
    {
      "metadata": {
        "trusted": true
      },
      "cell_type": "code",
      "source": "a = 1.232432556234234324\nb = 1.2344352565352434434\n\nprint(\"%.4f\"%(a))\nprint(\"%g\"%(b))\nprint(\"a = %e y b = %g\"%(a, b)) # formatting\n\nprint(\"El resultado final de a+b es: \", a+b)\nprint(\"El resultado final de a+b es: \"+str(a+b))\n\nprint(\"El resultado final de a+b es: \\n\"+str(a+b)) #new line operator \\n\n\nprint \"\"\"\nEl resultado final de a+b es:\n%.2f\n\"\"\"%(a+b)",
      "execution_count": 65,
      "outputs": [
        {
          "output_type": "stream",
          "text": "1.2324\n1.23444\na = 1.232433e+00 y b = 1.23444\n('El resultado final de a+b es: ', 2.466867812769478)\nEl resultado final de a+b es: 2.46686781277\nEl resultado final de a+b es: \n2.46686781277\n\nEl resultado final de a+b es:\n2.47\n\n",
          "name": "stdout"
        }
      ]
    },
    {
      "metadata": {},
      "cell_type": "markdown",
      "source": "<center><font size=5>$F = \\frac{9}{5}C+32$</font></center>"
    },
    {
      "metadata": {},
      "cell_type": "markdown",
      "source": "## Importación de librerías"
    },
    {
      "metadata": {
        "trusted": true
      },
      "cell_type": "code",
      "source": "import math\n\na = math.sqrt(4)\nb = math.pow(2.4, 5)\nprint a, b",
      "execution_count": 11,
      "outputs": [
        {
          "output_type": "stream",
          "text": "2.0 79.62624\n",
          "name": "stdout"
        }
      ]
    },
    {
      "metadata": {
        "trusted": true
      },
      "cell_type": "code",
      "source": "from math import sqrt, pow, cos, sin, tan\n\na = sqrt(4)\n\nprint(a)",
      "execution_count": 12,
      "outputs": [
        {
          "output_type": "stream",
          "text": "2.0\n",
          "name": "stdout"
        }
      ]
    },
    {
      "metadata": {
        "trusted": true
      },
      "cell_type": "code",
      "source": "from math import sqrt as raiz #alias\n\na = raiz(4)\n\nprint a",
      "execution_count": 13,
      "outputs": [
        {
          "output_type": "stream",
          "text": "2.0\n",
          "name": "stdout"
        }
      ]
    },
    {
      "metadata": {},
      "cell_type": "markdown",
      "source": "## Asegurando división flotante\n\nEl módulo *division* de la librería <a href=\"https://docs.python.org/2/library/__future__.html\"> __future__ </a>, asegura que el operador $/$ se sobrescriba para división flotante, asegurando así que a partir del momento en que se importa dicho módulo, siempre la división será flotante."
    },
    {
      "metadata": {
        "trusted": true
      },
      "cell_type": "code",
      "source": "from __future__ import division\n\nprint 9/5",
      "execution_count": 52,
      "outputs": [
        {
          "output_type": "stream",
          "text": "1.8\n",
          "name": "stdout"
        }
      ]
    },
    {
      "metadata": {
        "trusted": true
      },
      "cell_type": "code",
      "source": "from __future__ import division #asegura que todas la operaciones del programa son flotantes\n\nC = 100\nF = (9/5)*C+32\n\nprint(\"La conversion de \"+str(C)+\" grados centigrados a Farenheit es igual a: \"+str(F))",
      "execution_count": 71,
      "outputs": [
        {
          "output_type": "stream",
          "text": "La conversion de 100 grados centigrados a Farenheit es igual a: 212.0\n",
          "name": "stdout"
        }
      ]
    },
    {
      "metadata": {},
      "cell_type": "markdown",
      "source": "## Funciones matemáticas estandar\n\nDe la librería math"
    },
    {
      "metadata": {
        "trusted": true
      },
      "cell_type": "code",
      "source": "#Importacion de librerias forma 1\nimport math",
      "execution_count": 72,
      "outputs": []
    },
    {
      "metadata": {
        "trusted": true
      },
      "cell_type": "code",
      "source": "#Importacion de librerias forma 2\nfrom math import pi",
      "execution_count": 75,
      "outputs": []
    },
    {
      "metadata": {
        "trusted": true
      },
      "cell_type": "code",
      "source": "print pi",
      "execution_count": 76,
      "outputs": [
        {
          "output_type": "stream",
          "text": "3.14159265359\n",
          "name": "stdout"
        }
      ]
    },
    {
      "metadata": {
        "trusted": true
      },
      "cell_type": "code",
      "source": "#Importacion de librerias forma 3: all modules\nfrom math import *",
      "execution_count": 78,
      "outputs": []
    },
    {
      "metadata": {
        "trusted": true
      },
      "cell_type": "code",
      "source": "print pi",
      "execution_count": 79,
      "outputs": [
        {
          "output_type": "stream",
          "text": "3.14159265359\n",
          "name": "stdout"
        }
      ]
    },
    {
      "metadata": {
        "trusted": true
      },
      "cell_type": "code",
      "source": "print cos(1.0)",
      "execution_count": 80,
      "outputs": [
        {
          "output_type": "stream",
          "text": "0.540302305868\n",
          "name": "stdout"
        }
      ]
    },
    {
      "metadata": {
        "trusted": true
      },
      "cell_type": "code",
      "source": "#Importacion de librerias forma 4: alias\nfrom math import pi as PI",
      "execution_count": 81,
      "outputs": []
    },
    {
      "metadata": {
        "trusted": true
      },
      "cell_type": "code",
      "source": "from math import cos as coseno",
      "execution_count": 86,
      "outputs": []
    },
    {
      "metadata": {
        "trusted": true
      },
      "cell_type": "code",
      "source": "print math.sqrt(2)",
      "execution_count": 93,
      "outputs": [
        {
          "output_type": "stream",
          "text": "1.41421356237\n",
          "name": "stdout"
        }
      ]
    },
    {
      "metadata": {
        "trusted": true
      },
      "cell_type": "code",
      "source": "import random",
      "execution_count": 88,
      "outputs": []
    },
    {
      "metadata": {
        "trusted": true
      },
      "cell_type": "code",
      "source": "print random.random()",
      "execution_count": 92,
      "outputs": [
        {
          "output_type": "stream",
          "text": "0.397386199139\n",
          "name": "stdout"
        }
      ]
    },
    {
      "metadata": {},
      "cell_type": "markdown",
      "source": "## Ejemplo en clase:\n\nImplementemos la solución de la ecuación de caida libre:\n  \n<br>\n<center>\n    <ol>\n        <li> Caída libre: <font size=5>$y(t) = v_0t-\\frac{1}{2}gt^2$</font>\n        <br>\n        <br>\n        <li> Solución: <font size=5> $t = \\frac{-b \\pm \\sqrt{b^2 - 4ac} }{2a}$ </font>\n    </ol>\n</center>"
    },
    {
      "metadata": {
        "trusted": true
      },
      "cell_type": "code",
      "source": "from __future__ import division\nimport math\n\ng =9.81\na = 1/2*g\nb = -5\nc = 0.2\n\nt1 = (-b - math.sqrt(b**2 - 4*a*c)) / (2*a) #raíz 1\nt2 = (-b + math.sqrt(b**2 - 4*a*c)) / (2*a) #raíz 2\n\nprint t1, t2",
      "execution_count": 17,
      "outputs": [
        {
          "output_type": "stream",
          "text": "0.0417063724983 0.977661619347\n",
          "name": "stdout"
        }
      ]
    },
    {
      "metadata": {
        "trusted": true
      },
      "cell_type": "code",
      "source": "",
      "execution_count": null,
      "outputs": []
    }
  ],
  "metadata": {
    "kernelspec": {
      "name": "python2",
      "display_name": "Python 2",
      "language": "python"
    },
    "language_info": {
      "mimetype": "text/x-python",
      "nbconvert_exporter": "python",
      "name": "python",
      "pygments_lexer": "ipython2",
      "version": "2.7.15",
      "file_extension": ".py",
      "codemirror_mode": {
        "version": 2,
        "name": "ipython"
      }
    }
  },
  "nbformat": 4,
  "nbformat_minor": 2
}