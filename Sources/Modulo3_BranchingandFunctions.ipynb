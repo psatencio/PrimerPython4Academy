{
  "cells": [
    {
      "metadata": {
        "collapsed": true
      },
      "cell_type": "markdown",
      "source": "<img src=\"http://www.redttu.edu.co/es/wp-content/uploads/2016/01/itm.png\" alt=\"drawing\" width=\"400\"/>\n\n<hr>\n\nPedro Atencio - 2019"
    },
    {
      "metadata": {},
      "cell_type": "markdown",
      "source": "# Módulo 3: Branching & Functions\n\nEn este módulo trataremos las estructuras condicionales y la declaración de funciones.\n\n## 1. Estructura condicional:\n    1. Expresiones Booleanas.\n    2. IF, ELSE, ELIF.\n    3. inline IF tests.\n## 2. Funciones:\n    1. Declaración de funciones.\n    2. Parámetros y argumentos.\n        1. Single, Multiple.\n        2. Default.\n    3. Valores de retorno.\n        1. Retorno simple\n        2. Múltiples retornos. Ejemplo: caida libre y su derivada.\n    4. Recursividad.\n    5. Variables locales y globales."
    },
    {
      "metadata": {},
      "cell_type": "markdown",
      "source": "<hr>\n\n# 1. Estructura condicional\n\n<hr>\n\n# 1.1. Expresiones Booleanas\n\nUna expresión Booleana se puede definir como toda expresión que retorna un valor falso o verdadero:\n\n$expresion \\rightarrow[True, False]$"
    },
    {
      "metadata": {
        "trusted": true
      },
      "cell_type": "code",
      "source": "# == igual\n# != diferente\n# < menor que\n# <= menor o igual que\n# not() no\n\nexpresion = not(2 != 2) and False\n\nprint(expresion)",
      "execution_count": 2,
      "outputs": [
        {
          "output_type": "stream",
          "text": "False\n",
          "name": "stdout"
        }
      ]
    },
    {
      "metadata": {},
      "cell_type": "markdown",
      "source": "### Ejemplo: Tabla de verdad del operador O Exclusivo (XOR)"
    },
    {
      "metadata": {
        "trusted": true
      },
      "cell_type": "code",
      "source": "import tabulate\n\nvalues = [False, True]\n\ntabla_verdad = []\ntabla_verdad.append([\"A\", \"B\", \"XOR\"])\n\nfor a in values:\n    for b in values:\n        row = []\n        xor = (not(a) and b) or (a and not(b))\n        tabla_verdad.append([a,b,xor])\n\nprint(tabulate.tabulate(tabla_verdad))",
      "execution_count": 12,
      "outputs": [
        {
          "output_type": "stream",
          "text": "-----  -----  -----\nA      B      XOR\nFalse  False  False\nFalse  True   True\nTrue   False  True\nTrue   True   False\n-----  -----  -----\n",
          "name": "stdout"
        }
      ]
    },
    {
      "metadata": {},
      "cell_type": "markdown",
      "source": "<hr>\n\n# 1.2. IF, ELSE, ELIF\n\nEn Python contamos con tres elementos condicionales de la siguiente forma:\n\n1. **if**(_expresion booleana_)**:** --> Si se cumple la expresión booleana.\n2. **else:** --> en caso contrario.\n3. **elif**(_expresion booleana_)**:** --> Si no se cumple la expresión anterior y se cumple esta. Viene a reemplazar el if anidado de un nivel."
    },
    {
      "metadata": {
        "trusted": true
      },
      "cell_type": "code",
      "source": "a = 1\n\nif(a < 10):\n    print(\"menor\")\nelif(a == 10):\n    print(\"igual\")\nelse:\n    print(\"mayor\")",
      "execution_count": 13,
      "outputs": [
        {
          "output_type": "stream",
          "text": "menor\n",
          "name": "stdout"
        }
      ]
    },
    {
      "metadata": {},
      "cell_type": "markdown",
      "source": "# 1.3. Inline IF\n\nSe utiliza para asignar el resultado de una ramificación condicional a una variable."
    },
    {
      "metadata": {
        "trusted": true
      },
      "cell_type": "code",
      "source": "x = 9\n\n'''\nSi x es menor que 10, asigne x al cuadrado a la variable msg, \nen caso contrario, asigne el valor 1 sobre x a la variable msg\n'''\nmsg = (x**2 if x < 10 else 1./x) \n\nprint(msg)",
      "execution_count": 15,
      "outputs": [
        {
          "output_type": "stream",
          "text": "81\n",
          "name": "stdout"
        }
      ]
    },
    {
      "metadata": {},
      "cell_type": "markdown",
      "source": "<hr>\n\n# 2. Funciones\n\n<hr>\n\n# 2.1. Declaración de funciones\n\nEn Python se utiliza la palabra reservada **def** para definir una función. La sintaxis es la siguiente:\n\n<br>\n\n<center> **def** _nombre de la funcion_**(** $parametro_1, parametro_2, ..., parametro_n$ **):** </center>\n\nA continuación un ejemplo:"
    },
    {
      "metadata": {
        "trusted": true
      },
      "cell_type": "code",
      "source": "def imprimirMensaje(nombre):\n    '''\n    Procedimiento que imprime un mensaje utilizando un valor de entrada.\n    \n    INPUT:\n        nombre: String\n    OUTPUT:\n        None\n    '''\n    if(type(nombre) != str): #validamos que el argumento <nombre> sea de tipo string\n        print(\"Error, el parametro de entrada debe ser un String.\")\n    else:\n        print(\"Hola \"+nombre+\" Bienvenido al curso\")",
      "execution_count": 18,
      "outputs": []
    },
    {
      "metadata": {
        "trusted": true
      },
      "cell_type": "code",
      "source": "#llamado a la funcion\nimprimirMensaje(\"Pedro\")\nimprimirMensaje(1)",
      "execution_count": 19,
      "outputs": [
        {
          "output_type": "stream",
          "text": "Hola Pedro Bienvenido al curso\nError, el parametro de entrada debe ser un String.\n",
          "name": "stdout"
        }
      ]
    },
    {
      "metadata": {},
      "cell_type": "markdown",
      "source": "<hr>\n\n# 2.2. Parámetros y argumentos\n\nDefiniciones:\n\n1. **Parámetros**: Variables de la definición de la función y a las que son asignadas un valor al momento de llamar la función.\n2. **Argumentos**: Valores que son asignados a los parámetros de la función al momento del llamado.\n\nEl número de parámetros que puede recibir una función es arbitrario, es decir, tantos como se necesiten."
    },
    {
      "metadata": {
        "trusted": true
      },
      "cell_type": "code",
      "source": "def miFuncion(a,b,c,d): #parametros de la funcion: a, b, c, d\n    f = a*b*c*d\n    \n    return f**2",
      "execution_count": 22,
      "outputs": []
    },
    {
      "metadata": {
        "trusted": true
      },
      "cell_type": "code",
      "source": "resultado = miFuncion(3,4,5,7) #argumentos de la funcion: 3,4,5,7\nprint(resultado)",
      "execution_count": 23,
      "outputs": [
        {
          "output_type": "stream",
          "text": "176400\n",
          "name": "stdout"
        }
      ]
    },
    {
      "metadata": {},
      "cell_type": "markdown",
      "source": "## 2.2.1. Parámetros por defecto\n\nPython permite la asignación de valores por defecto a los parámetros de una función. Esto es, es posible asignar un valor por defecto a uno o varios parámetros de la función, de tal forma que si el usuario no ingresa un argumento para un parámetro, se asigna el valor por defecto a este último."
    },
    {
      "metadata": {
        "trusted": true
      },
      "cell_type": "code",
      "source": "def y(v0, t, g=9.8): #valor por defecto para el parámetro g\n    y = v0*t - 0.5*g*t**2\n    \n    return y",
      "execution_count": 38,
      "outputs": []
    },
    {
      "metadata": {
        "trusted": true
      },
      "cell_type": "code",
      "source": "for t in range(1,5):\n    print(\"tiempo: \"+str(t/5.),y(t = t, g = 9.8, v0 = 5))\n    \n\nfor t in range(1,5):\n    print(\"tiempo: \"+str(t/5.),y(t = t, v0 = 5)) #llamada a la funcion utilizando el valor por defecto para g",
      "execution_count": 31,
      "outputs": [
        {
          "output_type": "stream",
          "text": "('tiempo: 0.2', 0.09999999999999964)\n('tiempo: 0.4', -9.600000000000001)\n('tiempo: 0.6', -29.1)\n('tiempo: 0.8', -58.400000000000006)\n('tiempo: 0.2', 0.09999999999999964)\n('tiempo: 0.4', -9.600000000000001)\n('tiempo: 0.6', -29.1)\n('tiempo: 0.8', -58.400000000000006)\n",
          "name": "stdout"
        }
      ]
    },
    {
      "metadata": {},
      "cell_type": "markdown",
      "source": "# 2.3. Valores de retorno\n\nUna función puede retornar un valor. En cuyo caso utilizamos la palabra reservada __return__.\n\n\n<br>\n<center> \n    Sintaxis:\n    <br>\n    \n    __return__ objeto a retornar \n</center>"
    },
    {
      "metadata": {
        "trusted": true
      },
      "cell_type": "code",
      "source": "def f(x):\n    return x**2 #se retorna el valor x al cuadrado",
      "execution_count": 33,
      "outputs": []
    },
    {
      "metadata": {
        "trusted": true
      },
      "cell_type": "code",
      "source": "x = 2.4\nprint(f(x))",
      "execution_count": 34,
      "outputs": [
        {
          "output_type": "stream",
          "text": "5.76\n",
          "name": "stdout"
        }
      ]
    },
    {
      "metadata": {},
      "cell_type": "markdown",
      "source": "Una función con valor de retorno, equivale en el momento del llamado, al tipo de dato que retorna. Es decir, una función que devuelve o retorna un valor, soporta todas las operaciones del tipo de dato que retorna."
    },
    {
      "metadata": {
        "trusted": true
      },
      "cell_type": "code",
      "source": "import math\n\nx = 2.4\ny = math.sqrt( f(x) + 3.2 ) #estamos utilizando f(x) como un flotante\n\nprint(y)",
      "execution_count": 37,
      "outputs": [
        {
          "output_type": "stream",
          "text": "2.99332590942\n",
          "name": "stdout"
        }
      ]
    },
    {
      "metadata": {},
      "cell_type": "markdown",
      "source": "## 2.3.1 Múltiples valores de retorno\n\nEn caso de que una funcion deba retornar más de un valor, podemos:\n\n1. __Agregar los elementos__ a retornar en una estructura de datos.\n2. __Retornar los elementos separados por coma (,)__: En este caso, Python se encarga de agregar automáticamente los elementos en una tupla. "
    },
    {
      "metadata": {
        "trusted": true
      },
      "cell_type": "code",
      "source": "def ydydt(v0, t, g=9.8):\n    y = v0*t - 0.5*g*t**2\n    dydt = v0 - g*t\n    \n    elementos_agregados = [y, dydt] #agregacion de los elementos en un lista\n    \n    return elementos_agregados",
      "execution_count": 47,
      "outputs": []
    },
    {
      "metadata": {
        "trusted": true
      },
      "cell_type": "code",
      "source": "resultado = ydydt(v0=1, t=0.1)\n\nprint(\"Tipo de dato del resultado: \", type(resultado))\nprint(\"Resultado: \", resultado)",
      "execution_count": 46,
      "outputs": [
        {
          "output_type": "stream",
          "text": "('Tipo de dato del resultado: ', <type 'list'>)\n('Resultado: ', [0.05099999999999999, 0.019999999999999907])\n",
          "name": "stdout"
        }
      ]
    },
    {
      "metadata": {
        "trusted": true
      },
      "cell_type": "code",
      "source": "def ydydt(v0, t, g=9.8):\n    y = v0*t - 0.5*g*t**2\n    dydt = v0 - g*t\n    \n    return y, dydt #se retornan los elementos separados por coma",
      "execution_count": 48,
      "outputs": []
    },
    {
      "metadata": {
        "trusted": true
      },
      "cell_type": "code",
      "source": "resultado = ydydt(v0=1, t=0.1)\n\nprint(\"Tipo de dato del resultado: \", type(resultado))\nprint(\"Resultado: \", resultado)",
      "execution_count": 49,
      "outputs": [
        {
          "output_type": "stream",
          "text": "('Tipo de dato del resultado: ', <type 'tuple'>)\n('Resultado: ', (0.05099999999999999, 0.019999999999999907))\n",
          "name": "stdout"
        }
      ]
    },
    {
      "metadata": {},
      "cell_type": "markdown",
      "source": "<hr>\n\n# 2.4. Funciones recursivas\n\nUna función recursiva se define como una función que depende de un llamado a sí misma. Un ejemplo clásico de este tipo de funciones es la secuencia de Fibonacci definida como:\n\n$ f_n = \\left\\{\\begin{matrix} 0 & \\textrm{si} & n=0 \\\\ 1 & \\textrm{si} & n=1 \\\\ f_{n-1}+f_{n-2} & \\textrm{en caso contrario}\\end{matrix}\\right.$"
    },
    {
      "metadata": {
        "trusted": true
      },
      "cell_type": "code",
      "source": "def fibonnacci(i):\n    if(i == 0):\n        return 0\n    elif(i == 1):\n        return 1\n    else:\n        return fibonnacci(i-1) + fibonnacci(i-2) #En este punto sucede la recursividad",
      "execution_count": 54,
      "outputs": []
    },
    {
      "metadata": {
        "trusted": true
      },
      "cell_type": "code",
      "source": "for i in range(10): #10 primeros elementos de la secuencia\n    print(fibonnacci(i))",
      "execution_count": 55,
      "outputs": [
        {
          "output_type": "stream",
          "text": "0\n1\n1\n2\n3\n5\n8\n13\n21\n34\n",
          "name": "stdout"
        }
      ]
    },
    {
      "metadata": {},
      "cell_type": "markdown",
      "source": "<hr>\n\n# 2.5. Localidad y globalidad de una variable\n\nUna variable puede ser local o global respecto a una función, i.e., el valor de la variable puede existir de forma interna o externa a la función. Por definición, todo parámetro de una función es local a la misma."
    },
    {
      "metadata": {
        "trusted": true
      },
      "cell_type": "code",
      "source": "c = 10 #c es una variable por fuera de la funcion suma, esto es, c es global\n\ndef suma(a, b):\n    c = a + b #la variable c es local respecto a la funcion suma\n    return c\n\nprint(\"Valor de c dentro de la funcion: \", suma(2, 4))\nprint(\"Valor de c por fuera de la funcion: \", c)",
      "execution_count": 62,
      "outputs": [
        {
          "output_type": "stream",
          "text": "('Valor de c dentro de la funcion: ', 6)\n('Valor de c por fuera de la funcion: ', 10)\n",
          "name": "stdout"
        }
      ]
    },
    {
      "metadata": {},
      "cell_type": "markdown",
      "source": "Python permite acceder a las variables GLOBALES de un programa a través de la funcion __globals()__, la cual devuelve un diccionario."
    },
    {
      "metadata": {
        "trusted": true
      },
      "cell_type": "code",
      "source": "c = 10 #c es una variable por fuera de la funcion suma, esto es, c es global\n\ndef suma(a, b):\n    c = a + b #la variable c es local respecto a la funcion suma\n    \n    print(\"c local es igual a: \", c)\n    print(\"c global es igual a: \", globals()[\"c\"])",
      "execution_count": 71,
      "outputs": []
    },
    {
      "metadata": {
        "trusted": true
      },
      "cell_type": "code",
      "source": "suma(10,20)",
      "execution_count": 72,
      "outputs": [
        {
          "output_type": "stream",
          "text": "('c local es igual a: ', 30)\n('c global es igual a: ', 10)\n",
          "name": "stdout"
        }
      ]
    },
    {
      "metadata": {
        "trusted": true
      },
      "cell_type": "code",
      "source": "print(globals())",
      "execution_count": null,
      "outputs": []
    },
    {
      "metadata": {},
      "cell_type": "markdown",
      "source": "<hr>\n\nEn caso de querer modificar una variable global al interior de una función, podemos utilizar la palabra reservada __global__ seguida del nombre de la variable que queremos modificar."
    },
    {
      "metadata": {
        "trusted": true
      },
      "cell_type": "code",
      "source": "a = 10 #global\n\ndef suma(b):\n    global a #indicamos que esta a se refiere a la variable global\n    \n    a = 3 #local\n    print(\"resultado: \",a+b)\n    print(\"resultado: \",a+b)\n\n    \nsuma(2)\n\nprint(a)",
      "execution_count": 74,
      "outputs": [
        {
          "output_type": "stream",
          "text": "('resultado: ', 5)\n('resultado: ', 5)\n3\n",
          "name": "stdout"
        }
      ]
    },
    {
      "metadata": {},
      "cell_type": "markdown",
      "source": "<hr>\n\n# Tarea:\n\n__Implementar la criba de Erastóstenes__:\n\nPara ello debemos utilizar:\n    1. Ciclos.\n    2. Condicionales.\n    3. Listas.\n    4. Funciones.\n\nCriba de erastostenes https://es.wikipedia.org/wiki/Criba_de_Erat%C3%B3stenes\n\n<img src=\"https://upload.wikimedia.org/wikipedia/commons/b/b9/Sieve_of_Eratosthenes_animation.gif\">"
    },
    {
      "metadata": {
        "trusted": true
      },
      "cell_type": "code",
      "source": "def cribaErastostenes(n):\n    L = range(2, n+1)\n    i = 0\n    while(L[i]**2 < n):\n       \n        j = i + 1\n                \n        while(j < len(L)):\n            if((L[j] % L[i]) == 0):\n                del L[j]\n            else:\n                j += 1\n    \n        i += 1\n        \n    return L\n        ",
      "execution_count": 1,
      "outputs": []
    },
    {
      "metadata": {
        "trusted": true
      },
      "cell_type": "code",
      "source": "",
      "execution_count": null,
      "outputs": []
    }
  ],
  "metadata": {
    "kernelspec": {
      "name": "python2",
      "display_name": "Python 2",
      "language": "python"
    },
    "language_info": {
      "mimetype": "text/x-python",
      "nbconvert_exporter": "python",
      "name": "python",
      "pygments_lexer": "ipython2",
      "version": "2.7.15",
      "file_extension": ".py",
      "codemirror_mode": {
        "version": 2,
        "name": "ipython"
      }
    }
  },
  "nbformat": 4,
  "nbformat_minor": 2
}