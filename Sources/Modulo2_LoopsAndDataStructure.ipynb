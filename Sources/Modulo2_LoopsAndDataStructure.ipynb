{
  "cells": [
    {
      "metadata": {},
      "cell_type": "markdown",
      "source": "<img src=\"http://www.redttu.edu.co/es/wp-content/uploads/2016/01/itm.png\" alt=\"drawing\" width=\"400\"/>\n\n<hr>\n\nPedro Atencio - 2019"
    },
    {
      "metadata": {
        "collapsed": true
      },
      "cell_type": "markdown",
      "source": "<hr>\n\n# Módulo 2: Loops and Data Structures\n\nEn este módulo trataremos los siguientes temas:\n\n### 1. Estructuras repetitivas:\n\n- <font color=\"blue\">__While__</font>\n- <font color=\"blue\">__For__</font>\n    - Función <font color=\"blue\">__Range__</font>\n    \n### 2. Estructuras de datos (BUILT-IN):\n- Listas\n- Diccionarios"
    },
    {
      "metadata": {},
      "cell_type": "markdown",
      "source": "<hr>\n\n# 1. Estructuras repetitivas\n\n<hr>\n\n## 1.1. While loops\n\nSe utiliza para repetir un conjunto de operaciones o instrucciones mientras una condición sea verdadera. La sintaxis en Python es la siguente:\n\n<br>\n\n<font color=\"blue\" size=5>__while__</font> <font size=5>(<condición>)</font> <font color=\"blue\" size=5>__:__</font>\n\n    ---->instrucción 1\n    ---->instrucción 2\n    ...\n    ---->instrucción n\n\nEn la sintaxis anterior, <__condicion__> se refiere a alguna expresión lógica o Booleana, por ejemplo, $a >= 10$ o $teclaUsuario <> \"q\"$, y $---->$ se refiere a un nivel de indentación o TAB.\n\nObservemos algunos ejemplos en Python:"
    },
    {
      "metadata": {
        "trusted": true
      },
      "cell_type": "code",
      "source": "a = 10\n\nwhile(a > 0): #mientras a sea mayor que cero\n    print(a) #instruccion 1\n    a = a - 1 #instruccion 2",
      "execution_count": null,
      "outputs": []
    },
    {
      "metadata": {
        "trusted": true
      },
      "cell_type": "code",
      "source": "a = 1\n\nwhile(a <= 10):\n    print(a)\n    a = a + 1",
      "execution_count": null,
      "outputs": []
    },
    {
      "metadata": {
        "trusted": true
      },
      "cell_type": "code",
      "source": "input_usuario = ''\n\nhelp_msg = \"\"\"\nIngrese una de las siguientes opciones\n\\t nombre: para desplegar un mensaje\n\\t q: cerrar el programa\n\"\"\"\n\nwhile(input_usuario <> 'q'):\n    print(help_msg)\n    input_usuario = str(raw_input(\"Ingrese una opcion: \")) #raw_input = entrada por consola\n    \n    if(input_usuario <> 'q'):\n        print(\"Hola \"+input_usuario)",
      "execution_count": null,
      "outputs": []
    },
    {
      "metadata": {},
      "cell_type": "markdown",
      "source": "<hr>\n\n## 1.2. For loops\n\nSe utiliza para iterar sobre un conjunto de elementos que hagan parte de un objeto iterable. La sintaxis en Python es la siguente:\n\n<br>\n\n<font color=\"blue\" size=5>__for__ </font> \n<font size=5> elemento </font> \n<font color=\"blue\" size=5>__in__ </font>\n<font size=5> objeto_iterable </font> \n<font color=\"blue\" size=5>__:__</font>\n\n    ---->instrucción 1\n    ---->instrucción 2\n    ...\n    ---->instrucción n\n\nEn la sintaxis anterior, __objeto_iterable__ se refiere a algun objeto de Python que contenga una serie de elementos, por ejemplo, una cadena de caracteres o un arreglo de datos, y $---->$ se refiere a un nivel de indentación o TAB.\n\nObservemos algunos ejemplos en Python:"
    },
    {
      "metadata": {
        "trusted": true
      },
      "cell_type": "code",
      "source": "HP_lovecraft = \"That is not dead which can eternal lie, and with strange aeons even death may die.\"\n\ni = 1\n\nfor caracter in HP_lovecraft: #por cada caracter del texto\n    print(\"Caracter %d: %s\"%(i,caracter))\n    i = i + 1",
      "execution_count": null,
      "outputs": []
    },
    {
      "metadata": {},
      "cell_type": "markdown",
      "source": "<hr>\n\nEn el caso de que deseemos realizar un bucle o ciclo definido en un rango $[a, b)$, podemos utilizar la función <font color=\"blue\">range</font>, la cual nos retorna un objeto iterable en dicho rango:"
    },
    {
      "metadata": {
        "trusted": true
      },
      "cell_type": "code",
      "source": "??range",
      "execution_count": 21,
      "outputs": []
    },
    {
      "metadata": {
        "trusted": true
      },
      "cell_type": "code",
      "source": "a = 1 #desde 1\nb = 11 #hasta 11 - 1 = 10\n\nrango = range(a, b)\n\nprint(rango)",
      "execution_count": 24,
      "outputs": [
        {
          "output_type": "stream",
          "text": "[1, 2, 3, 4, 5, 6, 7, 8, 9, 10]\n",
          "name": "stdout"
        }
      ]
    },
    {
      "metadata": {},
      "cell_type": "markdown",
      "source": "<hr>\n\nTambién podemos utilizar la sintaxis $range(a, b, paso)$:"
    },
    {
      "metadata": {
        "trusted": true
      },
      "cell_type": "code",
      "source": "a = 1 #desde 1\nb = 11 #hasta 11 - 1 = 10\npaso = 2 #de 2 en 2\n\nrango = range(a, b, paso)\n\nprint(rango)",
      "execution_count": 27,
      "outputs": [
        {
          "output_type": "stream",
          "text": "[1, 3, 5, 7, 9]\n",
          "name": "stdout"
        }
      ]
    },
    {
      "metadata": {},
      "cell_type": "markdown",
      "source": "### for + range\n\nCombinando for y range tenemos:"
    },
    {
      "metadata": {
        "trusted": true
      },
      "cell_type": "code",
      "source": "a = 1 #desde 1\nb = 11 #hasta 11 - 1 = 10\npaso = 2 #de 2 en 2\n\nrango = range(a, b, paso)\n\nfor i in rango:\n    print(\"Elemento: %s\"%(i))",
      "execution_count": 31,
      "outputs": [
        {
          "output_type": "stream",
          "text": "Elemento: 1\nElemento: 3\nElemento: 5\nElemento: 7\nElemento: 9\n",
          "name": "stdout"
        }
      ]
    },
    {
      "metadata": {
        "trusted": true
      },
      "cell_type": "code",
      "source": "from __future__ import division\n\na = 0\nb = 1\nstep = 1\nbins = 10\n\nfor i in range(a, b*bins+1, step):\n    print(\"%g\"%(i/bins))",
      "execution_count": 52,
      "outputs": [
        {
          "output_type": "stream",
          "text": "0\n0.1\n0.2\n0.3\n0.4\n0.5\n0.6\n0.7\n0.8\n0.9\n1\n",
          "name": "stdout"
        }
      ]
    },
    {
      "metadata": {},
      "cell_type": "markdown",
      "source": "<hr>\n\n## Ejercicio en clase\n\nGeneremos una tabla de conversión de grados Celsius en el rango $[-20, 40]$ con __paso=5__, utilizando ciclo while y for:"
    },
    {
      "metadata": {
        "trusted": true
      },
      "cell_type": "code",
      "source": "from __future__ import division\n\nc = -20\nwhile(c <= 40):\n    f = 9/5*c+32\n    print(\"%.2f grados Celsius equivalen a %.2f grados Fahrenheit\"%(c,f))\n    c += 5",
      "execution_count": 53,
      "outputs": [
        {
          "output_type": "stream",
          "text": "-20.00 grados Celsius equivalen a -4.00 grados Fahrenheit\n-15.00 grados Celsius equivalen a 5.00 grados Fahrenheit\n-10.00 grados Celsius equivalen a 14.00 grados Fahrenheit\n-5.00 grados Celsius equivalen a 23.00 grados Fahrenheit\n0.00 grados Celsius equivalen a 32.00 grados Fahrenheit\n5.00 grados Celsius equivalen a 41.00 grados Fahrenheit\n10.00 grados Celsius equivalen a 50.00 grados Fahrenheit\n15.00 grados Celsius equivalen a 59.00 grados Fahrenheit\n20.00 grados Celsius equivalen a 68.00 grados Fahrenheit\n25.00 grados Celsius equivalen a 77.00 grados Fahrenheit\n30.00 grados Celsius equivalen a 86.00 grados Fahrenheit\n35.00 grados Celsius equivalen a 95.00 grados Fahrenheit\n40.00 grados Celsius equivalen a 104.00 grados Fahrenheit\n",
          "name": "stdout"
        }
      ]
    },
    {
      "metadata": {
        "trusted": true
      },
      "cell_type": "code",
      "source": "for c in range(-20, 40+5, 5):\n    f = 9/5*c+32\n    print(\"%.2f grados Celsius equivalen a %.2f grados Fahrenheit\"%(c,f))",
      "execution_count": 54,
      "outputs": [
        {
          "output_type": "stream",
          "text": "-20.00 grados Celsius equivalen a -4.00 grados Fahrenheit\n-15.00 grados Celsius equivalen a 5.00 grados Fahrenheit\n-10.00 grados Celsius equivalen a 14.00 grados Fahrenheit\n-5.00 grados Celsius equivalen a 23.00 grados Fahrenheit\n0.00 grados Celsius equivalen a 32.00 grados Fahrenheit\n5.00 grados Celsius equivalen a 41.00 grados Fahrenheit\n10.00 grados Celsius equivalen a 50.00 grados Fahrenheit\n15.00 grados Celsius equivalen a 59.00 grados Fahrenheit\n20.00 grados Celsius equivalen a 68.00 grados Fahrenheit\n25.00 grados Celsius equivalen a 77.00 grados Fahrenheit\n30.00 grados Celsius equivalen a 86.00 grados Fahrenheit\n35.00 grados Celsius equivalen a 95.00 grados Fahrenheit\n40.00 grados Celsius equivalen a 104.00 grados Fahrenheit\n",
          "name": "stdout"
        }
      ]
    },
    {
      "metadata": {
        "trusted": true
      },
      "cell_type": "code",
      "source": "resultados = [] #lista vacia\n\nfor c in range(-20, 40+5, 5):\n    f = 9/5*c+32\n    sublista = [c,f]\n    resultados.append(sublista)\n    #print(\"%.2f grados Celsius equivalen a %.2f grados Fahrenheit\"%(c,f))\n    \nfor i in range(len(resultados)):\n    celsius = resultados[i][0]\n    farenheit = resultados[i][1]\n    print(\"%.2f grados Celsius equivalen a %.2f grados Fahrenheit\"%(celsius,farenheit))\n    \n    \nfor elemento in resultados:\n    celsius = elemento[0]\n    farenheit = elemento[1]\n    print(\"%.2f grados Celsius equivalen a %.2f grados Fahrenheit\"%(celsius,farenheit))    ",
      "execution_count": null,
      "outputs": []
    },
    {
      "metadata": {},
      "cell_type": "markdown",
      "source": "<hr>\n\n# 2. Estructuras de datos\n\n## 2.1. Listas\n\nUna lista es un estructura de datos que nos permite almacenar secuencias de elementos. A diferencia de un arreglo numérico, una lista tiene las siguientes propiedades:\n\n- Permite almacenar cualquier tipo de elemento.\n- No es finita.\n- Es dinámica, esto es, puede cambiar su tamaño dinámicamente.\n\nLa sintaxis en Python es la siguiente:\n\n$lista$ = <font color=\"blue\" size=5>[</font> $elemento_1$, $elemento_2$, $elemento_3$,...,$elemento_n$ <font color=\"blue\" size=5>]</font> "
    },
    {
      "metadata": {
        "trusted": true
      },
      "cell_type": "code",
      "source": "#lista = [] #lista vacia\nlista = [1,2,3, \"Hola Mundo\", 2.5, 3.3, 4E-2]\n\nprint(lista)",
      "execution_count": 59,
      "outputs": [
        {
          "output_type": "stream",
          "text": "[1, 2, 3, 'Hola Mundo', 2.5, 3.3, 0.04]\n",
          "name": "stdout"
        }
      ]
    },
    {
      "metadata": {},
      "cell_type": "markdown",
      "source": "Como una lista puede almacenar cualquier tipo de elemento, puede almacenar una lista también:"
    },
    {
      "metadata": {
        "trusted": true
      },
      "cell_type": "code",
      "source": "lista_anidada = [[1,2,3],[4,5,6,7],[\"Juan\", \"Pedro\", \"Pablo\"]]\n\nprint(lista_anidada)\n\n\"\"\"\n#El codigo anterior es equivalente a\nlista1 = [1,2,3]\nlista2 = [4,5,6,7]\nlista3 = [\"Juan\", \"Pedro\", \"Pablo\"]\n\nlista anidada = [lista, lista2, lista3]\n\"\"\"",
      "execution_count": 63,
      "outputs": [
        {
          "output_type": "stream",
          "text": "[[1, 2, 3], [4, 5, 6, 7], ['Juan', 'Pedro', 'Pablo']]\n",
          "name": "stdout"
        },
        {
          "output_type": "execute_result",
          "execution_count": 63,
          "data": {
            "text/plain": "'\\n#El codigo anterior es equivalente a\\nlista1 = [1,2,3]\\nlista2 = [4,5,6,7]\\nlista3 = [\"Juan\", \"Pedro\", \"Pablo\"]\\n\\nlista anidada = [lista, lista2, lista3]\\n'"
          },
          "metadata": {}
        }
      ]
    },
    {
      "metadata": {},
      "cell_type": "markdown",
      "source": "<hr>\n\n### 2.1.1. Operaciones básicas sobre listas\n\nA continuación algunas operaciones sobre las listas. Para mayor información, consultar: https://docs.python.org/2/tutorial/datastructures.html"
    },
    {
      "metadata": {
        "trusted": true
      },
      "cell_type": "code",
      "source": "mi_lista = [] #crear lista vacia\nprint(mi_lista)\n\nmi_lista = [1,2,3, 2.5, \"Juan\"] #crear lista con elementos\nprint(mi_lista)\n\nprint(mi_lista[3]) #acceso al elemento en el indice 3\n\nmi_lista[3] = \"Julio\" #reemplazo\nprint(mi_lista)\n\nmi_lista.append(\"Carlos\") #agregar elemento a la lista\nprint(mi_lista)\n\nlista2 = [3,4,5]\nmi_lista = mi_lista + lista2 #agregacion de lista\nprint(mi_lista)\n\nmi_lista.insert(1, \"nuevo_elemento\") #insercion de elemento en la posicion 1\nprint(mi_lista)\n\ne = mi_lista.pop() #desapilar ultimo elemento\nprint(e)\nprint(mi_lista)\n\ne = mi_lista.pop(2) #desapilar en la posicion 2\nprint(e)\nprint(mi_lista)\n\nprint(\"Longitud de la lista: %d\"%(len(mi_lista))) #obtener la longitud de la lista\n\ndel mi_lista[3] #eliminar elemento 3 de la lista\nprint(mi_lista)",
      "execution_count": 73,
      "outputs": [
        {
          "output_type": "stream",
          "text": "[]\n[1, 2, 3, 2.5, 'Juan']\n2.5\n[1, 2, 3, 'Julio', 'Juan']\n[1, 2, 3, 'Julio', 'Juan', 'Carlos']\n[1, 2, 3, 'Julio', 'Juan', 'Carlos', 3, 4, 5]\n[1, 'nuevo_elemento', 2, 3, 'Julio', 'Juan', 'Carlos', 3, 4, 5]\n5\n[1, 'nuevo_elemento', 2, 3, 'Julio', 'Juan', 'Carlos', 3, 4]\n2\n[1, 'nuevo_elemento', 3, 'Julio', 'Juan', 'Carlos', 3, 4]\nLongitud de la lista: 8\n[1, 'nuevo_elemento', 3, 'Juan', 'Carlos', 3, 4]\n",
          "name": "stdout"
        }
      ]
    },
    {
      "metadata": {},
      "cell_type": "markdown",
      "source": "<hr>\n\n## 2.1.1. Recorriendo una lista con estructuras repetitivas\n\nPara ello podemos:\n\n1. Utilizar un rango igual al tamaño de la lista e iterar por cada posición de la lista.\n2. Iterar por cada elemento de la lista como objeto iterable."
    },
    {
      "metadata": {
        "trusted": true
      },
      "cell_type": "code",
      "source": "lista = [1,2,3,4,4.5E-5, \"hola\", \"mundo\", [\"a\", \"b\", c]]\n\nfor i in range(len(lista)):#por\n    print(lista[i])",
      "execution_count": 74,
      "outputs": [
        {
          "output_type": "stream",
          "text": "1\n2\n3\n4\n4.5e-05\nhola\nmundo\n['a', 'b', 40]\n",
          "name": "stdout"
        }
      ]
    },
    {
      "metadata": {
        "trusted": true
      },
      "cell_type": "code",
      "source": "for elemento in lista:\n    print(elemento)",
      "execution_count": 75,
      "outputs": [
        {
          "output_type": "stream",
          "text": "1\n2\n3\n4\n4.5e-05\nhola\nmundo\n['a', 'b', 40]\n",
          "name": "stdout"
        }
      ]
    },
    {
      "metadata": {},
      "cell_type": "markdown",
      "source": "<hr>\n\n## 2.1.1. List Comprehension\n\nEsto es una manera concisa de crear listas, ahorrándonos el proceso ingresar la asignación de valores de la lista dentro de un ciclo. Analicemos el siguiente ejemplo:"
    },
    {
      "metadata": {
        "trusted": true
      },
      "cell_type": "code",
      "source": "X = range(0, 11)\n\nlista = []\n\nfor x in X:\n    lista.append(x**2)\n\nprint(lista)",
      "execution_count": 80,
      "outputs": [
        {
          "output_type": "stream",
          "text": "[0, 1, 4, 9, 16, 25, 36, 49, 64, 81, 100]\n",
          "name": "stdout"
        }
      ]
    },
    {
      "metadata": {},
      "cell_type": "markdown",
      "source": "En el ejemplo anterior hemos creado una lista de los cuadrados de los elementos en una lista de la siguiente forma: \n\n<center><font size=5>$lista=x^2 ; \\forall x \\in X=[0,10]$</font></center>\n\nPodemos leer la expresión anterior como:\n\n<br>\n<center><font size=3><i>\"lista es igual a x al cuadrado, para todo x que pertenece a X en el rango 0 a 10.\"</i></font></center>\n\nPodemos utilizar la expresión anterior para pensar un poco en la compresion de lista. Observemos el \nsiguiente ejemplo:"
    },
    {
      "metadata": {
        "trusted": true
      },
      "cell_type": "code",
      "source": "X = range(0, 11)\n\nlista = [x**2 for x in X] #lista es igual a x al cuadrado, para todo x que pertenece a X en el rango 0 a 10.\n\nprint(lista)",
      "execution_count": 83,
      "outputs": [
        {
          "output_type": "stream",
          "text": "[0, 1, 4, 9, 16, 25, 36, 49, 64, 81, 100]\n",
          "name": "stdout"
        }
      ]
    },
    {
      "metadata": {},
      "cell_type": "markdown",
      "source": "<hr>\n\n# Trabajo en clase\n\nAlmacenemos la tabla de conversión de grados Celsius a Fahrenheit en una lista anidada de la forma: $[[C_0, F_0],[C_1, F_1],...,[C_n, F_n]]$"
    },
    {
      "metadata": {
        "trusted": true
      },
      "cell_type": "code",
      "source": "from __future__ import division\n\ntabla = []\n\nfor c in range(-20, 40+5, 5):\n    f = 9/5*c+32\n    tabla.append([c, f])\n\nprint(tabla) #impresion de la lista\n\n#impresion con formato\nfor elemento in tabla:\n    c = elemento[0]\n    f = elemento[1]\n    print(\"%.2f grados Celsius equivalen a %.2f grados Fahrenheit\"%(c,f))",
      "execution_count": 87,
      "outputs": [
        {
          "output_type": "stream",
          "text": "[[-20, -4.0], [-15, 5.0], [-10, 14.0], [-5, 23.0], [0, 32.0], [5, 41.0], [10, 50.0], [15, 59.0], [20, 68.0], [25, 77.0], [30, 86.0], [35, 95.0], [40, 104.0]]\n-20.00 grados Celsius equivalen a -4.00 grados Fahrenheit\n-15.00 grados Celsius equivalen a 5.00 grados Fahrenheit\n-10.00 grados Celsius equivalen a 14.00 grados Fahrenheit\n-5.00 grados Celsius equivalen a 23.00 grados Fahrenheit\n0.00 grados Celsius equivalen a 32.00 grados Fahrenheit\n5.00 grados Celsius equivalen a 41.00 grados Fahrenheit\n10.00 grados Celsius equivalen a 50.00 grados Fahrenheit\n15.00 grados Celsius equivalen a 59.00 grados Fahrenheit\n20.00 grados Celsius equivalen a 68.00 grados Fahrenheit\n25.00 grados Celsius equivalen a 77.00 grados Fahrenheit\n30.00 grados Celsius equivalen a 86.00 grados Fahrenheit\n35.00 grados Celsius equivalen a 95.00 grados Fahrenheit\n40.00 grados Celsius equivalen a 104.00 grados Fahrenheit\n",
          "name": "stdout"
        }
      ]
    },
    {
      "metadata": {
        "trusted": true
      },
      "cell_type": "code",
      "source": "#EXTRA pretty print\n\nimport pprint\n\npp = pprint.PrettyPrinter(indent=1)\npp.pprint(tabla)",
      "execution_count": 103,
      "outputs": [
        {
          "output_type": "stream",
          "text": "[[-20, -4.0],\n [-15, 5.0],\n [-10, 14.0],\n [-5, 23.0],\n [0, 32.0],\n [5, 41.0],\n [10, 50.0],\n [15, 59.0],\n [20, 68.0],\n [25, 77.0],\n [30, 86.0],\n [35, 95.0],\n [40, 104.0]]\n",
          "name": "stdout"
        }
      ]
    },
    {
      "metadata": {},
      "cell_type": "markdown",
      "source": "<hr>\n\n## 2.2. Diccionarios\n\nUna estructura de datos muy útil en Python es el diccionario, con la siguiente sintaxis:\n\n$lista$ = <font color=\"blue\" size=5>{</font> $key_1:elemento_1$, $key_2:elemento_2$, $key_3:elemento_3$,...,$key_n:elemento_n$ <font color=\"blue\" size=5>}</font>\n\nDonde $key_i$ se refiere a un indicador o llave única para el elemento $i$. Observemos el siguiente ejemplo:"
    },
    {
      "metadata": {
        "trusted": true
      },
      "cell_type": "code",
      "source": "estudiantes = {\"Juan\":[22, \"Casas\", \"ITM\"], \"Pedro\":[23, \"Lopez\", \"Pascual Bravo\"]}\n\nprint(estudiantes[\"Juan\"]) #Acceso al diccionario <estudiantes> en la llave \"Juan\"",
      "execution_count": 105,
      "outputs": [
        {
          "output_type": "stream",
          "text": "[22, 'Casas', 'ITM']\n",
          "name": "stdout"
        }
      ]
    },
    {
      "metadata": {
        "trusted": true
      },
      "cell_type": "code",
      "source": "print(estudiantes.keys()) #imprime todas las llaves de un diccionario",
      "execution_count": 106,
      "outputs": [
        {
          "output_type": "stream",
          "text": "['Juan', 'Pedro']\n",
          "name": "stdout"
        }
      ]
    },
    {
      "metadata": {},
      "cell_type": "markdown",
      "source": "<hr>\n\n### 2.2.1. Recorriendo un diccionario con estructuras repetitivas"
    },
    {
      "metadata": {
        "trusted": true
      },
      "cell_type": "code",
      "source": "llaves = estudiantes.keys()\n\ni = 0\n\nfor key in llaves:\n    print(\"llave_\"+str(i)+\":\",key,\" elemento_\"+str(i)+\": \",estudiantes[key])\n    i = i + 1",
      "execution_count": 111,
      "outputs": [
        {
          "output_type": "stream",
          "text": "('llave_0:', 'Juan', ' elemento_0: ', [22, 'Casas', 'ITM'])\n('llave_1:', 'Pedro', ' elemento_1: ', [23, 'Lopez', 'Pascual Bravo'])\n",
          "name": "stdout"
        }
      ]
    },
    {
      "metadata": {},
      "cell_type": "markdown",
      "source": "<hr>\n\n### 2.2.2. Llenando un diccionario\n\nPara ello analicemos el siguiente ejemplo:"
    },
    {
      "metadata": {
        "trusted": true
      },
      "cell_type": "code",
      "source": "import math\n\ntabla_factorial = {} #diccionario vacio\n\nfor i in range(10):\n    tabla_factorial[str(i)] = math.factorial(i)\n\nprint(tabla_factorial.keys())",
      "execution_count": 114,
      "outputs": [
        {
          "output_type": "stream",
          "text": "['1', '0', '3', '2', '5', '4', '7', '6', '9', '8']\n",
          "name": "stdout"
        }
      ]
    },
    {
      "metadata": {
        "trusted": true
      },
      "cell_type": "code",
      "source": "print(tabla_factorial[\"4\"])",
      "execution_count": 115,
      "outputs": [
        {
          "output_type": "stream",
          "text": "24\n",
          "name": "stdout"
        }
      ]
    },
    {
      "metadata": {
        "trusted": true
      },
      "cell_type": "code",
      "source": "from __future__ import division\nimport math\n\nterminos = []\nsumatoria = 0\n\nresolucion = 100\n\nx = math.radians(270)\n\nfor n in range(resolucion):\n    termino = (-1)**n / math.factorial(2*n+1) * x**(2*n+1)\n    terminos.append(termino)\n    sumatoria += termino\n\nprint(sumatoria)\nprint(terminos)",
      "execution_count": null,
      "outputs": []
    },
    {
      "metadata": {
        "trusted": true
      },
      "cell_type": "code",
      "source": "N = 7\n\nmatriz = []\n\nfor i in range(N):\n    fila = []\n    for j in range(N):\n        fila.append((i+1)*(j+1))\n    \n    matriz.append(fila)\n\nprint matriz",
      "execution_count": 10,
      "outputs": [
        {
          "output_type": "stream",
          "text": "[[1, 2, 3, 4, 5, 6, 7], [2, 4, 6, 8, 10, 12, 14], [3, 6, 9, 12, 15, 18, 21], [4, 8, 12, 16, 20, 24, 28], [5, 10, 15, 20, 25, 30, 35], [6, 12, 18, 24, 30, 36, 42], [7, 14, 21, 28, 35, 42, 49]]\n",
          "name": "stdout"
        }
      ]
    },
    {
      "metadata": {
        "trusted": true
      },
      "cell_type": "markdown",
      "source": "<hr>\n\n# Practiquemos:\n\n1. La funcion $sin(x)$ puede ser calculada mediante la serie $sin(x) = x - \\frac{x^3}{3!}+\\frac{x^5}{5!}-\\frac{x^7}{7!}+...$, donde $x!$ es factorial de x, que en Python equivale a __math.factorial(x)__. Implemente la serie anterior utilizando estructuras repetitivas, almacenando todos los elementos de la serie en una lista y calculando el valor total de la sumatoria en una variable.\n\n2. Generar una lista con los números impares en el rango $(1, n)$, donde $n$ es un valor arbitrario que puede ser modificado. Además debe asegurarse de que si $n$ el número impar mayor es $n-1$.\n\n3. Utilizar listas anidadas para generar una matriz $M$ de tamaño $N \\times N$, esto es, $M_{N \\times N}$, donde $M_{i,j} = i+1*j+1$.\n\n\n# <font>Level Boss!</font>\n\n- Si listamos todos los numeros naturales menores que 10 que son múltiplos de 3 o 5 tenemos: $3,5,6,9$. La suma de estos valores es 23. Encuentre la suma de todos los múltiplos de 3 o 5 menores que 1000.\n\n\n# <font>Final Boss!!</font>\n- Cada nuevo término de la secuencia de Fibonacci se genera agregando los dos términos previos, comenzando en 1 y 2 los 10 primeros términos son:\n\n<center>$1,2,3,5,8,13,21,34,55,89,...$</center>\n\nConsiderando los términos en la secuencia de Fibonnaci que no superan el valor 4.000.000 (4 millones), encuentre la suma de los términos pares.\n\nhttps://en.wikipedia.org/wiki/Fibonacci_number"
    },
    {
      "metadata": {},
      "cell_type": "markdown",
      "source": "<hr>\n\n# Soluciones"
    },
    {
      "metadata": {
        "trusted": true
      },
      "cell_type": "code",
      "source": "#1. Serie de seno\n\nimport math\nfrom __future__ import division\n\nsuma = 0\n\nnum_iteraciones = 100\n\nx = math.radians(90)\n\nsecuencia = []\n\nfor n in range(num_iteraciones):\n    elem = ((-1)**n  / math.factorial(2*n+1)) * x**(2*n+1)\n    secuencia.append(elem)\n    suma = suma + elem\n\nprint(suma)",
      "execution_count": 3,
      "outputs": [
        {
          "output_type": "stream",
          "text": "1.0\n",
          "name": "stdout"
        }
      ]
    },
    {
      "metadata": {
        "trusted": true
      },
      "cell_type": "code",
      "source": "#3. Matriz de listas\n\nimport tabulate\n\nN = 10\n\nM = []\n\nfor i in range(N):\n    temp = []\n    for j in range(N):\n        temp.append((i+1)*(j+1))\n    \n    M.append(temp)\n\nprint tabulate.tabulate(M)",
      "execution_count": 6,
      "outputs": [
        {
          "output_type": "stream",
          "text": "--  --  --  --  --  --  --  --  --  ---\n 1   2   3   4   5   6   7   8   9   10\n 2   4   6   8  10  12  14  16  18   20\n 3   6   9  12  15  18  21  24  27   30\n 4   8  12  16  20  24  28  32  36   40\n 5  10  15  20  25  30  35  40  45   50\n 6  12  18  24  30  36  42  48  54   60\n 7  14  21  28  35  42  49  56  63   70\n 8  16  24  32  40  48  56  64  72   80\n 9  18  27  36  45  54  63  72  81   90\n10  20  30  40  50  60  70  80  90  100\n--  --  --  --  --  --  --  --  --  ---\n",
          "name": "stdout"
        }
      ]
    },
    {
      "metadata": {
        "trusted": true
      },
      "cell_type": "code",
      "source": "#Level Boss\n\nn = 3\nsuma = 0\nwhile(n < 1000):\n    if(n % 3 == 0 or n % 5 == 0):\n        suma += n\n        #print(n)\n    n += 1\n\nprint(suma)",
      "execution_count": 7,
      "outputs": [
        {
          "output_type": "stream",
          "text": "233168\n",
          "name": "stdout"
        }
      ]
    },
    {
      "metadata": {
        "trusted": true
      },
      "cell_type": "code",
      "source": "# Final Boss\na = 0\nb = 1\n\nsuma = 0\n\nwhile(a < 4000000):\n    c = a + b\n    a = b\n    b = c\n    \n    if(c % 2 == 0):\n        suma += c\n    \nprint(suma)",
      "execution_count": 2,
      "outputs": [
        {
          "output_type": "stream",
          "text": "4613732\n",
          "name": "stdout"
        }
      ]
    },
    {
      "metadata": {
        "trusted": true
      },
      "cell_type": "code",
      "source": "",
      "execution_count": null,
      "outputs": []
    }
  ],
  "metadata": {
    "kernelspec": {
      "name": "python2",
      "display_name": "Python 2",
      "language": "python"
    },
    "language_info": {
      "mimetype": "text/x-python",
      "nbconvert_exporter": "python",
      "name": "python",
      "pygments_lexer": "ipython2",
      "version": "2.7.15",
      "file_extension": ".py",
      "codemirror_mode": {
        "version": 2,
        "name": "ipython"
      }
    }
  },
  "nbformat": 4,
  "nbformat_minor": 2
}