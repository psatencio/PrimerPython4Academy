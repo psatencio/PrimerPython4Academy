{
  "cells": [
    {
      "metadata": {},
      "cell_type": "markdown",
      "source": "<img src=\"http://www.redttu.edu.co/es/wp-content/uploads/2016/01/itm.png\" alt=\"drawing\" width=\"400\"/>\n\n<hr>\n\nPedro Atencio - 2019"
    },
    {
      "metadata": {},
      "cell_type": "markdown",
      "source": "__Agenda__:\n\n- Numpy\n    - Inicializacion de arreglos y acceso.\n        - Shape.\n        - Zeros, Ones, linspace, arange.\n    - Slicing.\n    - Funciones básicas y axis.\n        - sum, mean, std, linalg.norm, random.\n        - hsplit, vsplit.\n        - python math vs numpy.\n            - Ejemplo: funcion sigmoide.\n    - Funciones de la clase nd-array (built-in) vs funciones de numpy.\n    - Vectorization / Broadcasting\n        - sumatorias y multiplicación de vectores.\n        - Ejemplo: distancia euclidea.\n        \n- IO en Archivos\n    - Python File\n    - Pickle"
    },
    {
      "metadata": {
        "trusted": true
      },
      "cell_type": "markdown",
      "source": " <hr>\n # 1. Inicializacion de arreglos y acceso."
    },
    {
      "metadata": {
        "trusted": true
      },
      "cell_type": "code",
      "source": "import numpy\nimport numpy as np",
      "execution_count": 1,
      "outputs": []
    },
    {
      "metadata": {
        "trusted": true
      },
      "cell_type": "code",
      "source": "#A = np.array([[1],[2],[3]]) #creamos un arreglo manualmente.\nA = np.array([[1,2,3]])\nprint(\"Tamanio del arreglo: \",A.shape) #imprimimos su tamanio\nprint(\"Tipo de dato (clase) del arreglo: \", type(A))\nprint(\"Num fils: \", A.shape[0])\nprint(\"Num cols: \", A.shape[1])",
      "execution_count": 3,
      "outputs": [
        {
          "output_type": "stream",
          "text": "('Tamanio del arreglo: ', (1, 3))\n('Tipo de dato (clase) del arreglo: ', <type 'numpy.ndarray'>)\n('Num fils: ', 1)\n('Num cols: ', 3)\n",
          "name": "stdout"
        }
      ]
    },
    {
      "metadata": {},
      "cell_type": "markdown",
      "source": "<a href=\"https://docs.scipy.org/doc/numpy/reference/arrays.ndarray.html\">Consultar Numpy nd-array.</a>"
    },
    {
      "metadata": {
        "trusted": true,
        "scrolled": true
      },
      "cell_type": "code",
      "source": "#A = np.zeros([3,3]) #creamos un arreglo lleno de ceros o unos de tamanio 3x4\nA = np.ones([3,3])\nprint(\"Arreglo: \", A)\nprint(\"Size: \", A.shape)",
      "execution_count": 5,
      "outputs": [
        {
          "output_type": "stream",
          "text": "('Arreglo: ', array([[1., 1., 1.],\n       [1., 1., 1.],\n       [1., 1., 1.]]))\n('Size: ', (3, 3))\n",
          "name": "stdout"
        }
      ]
    },
    {
      "metadata": {},
      "cell_type": "markdown",
      "source": "<hr>\nUna forma útil de generar arreglos consiste en la utilización de las funciones __arange__ y __linspace__, las cuales permiten generar arreglos secuenciales en un rango de valores.\n\n- __arange__: Permite crear arreglos de secuencias numéricas, indicando: _<inicio, fin, paso>_.\n- __linspace__: Permite crear arreglos de secuencias numéricas, indicando: _<inicio, fin, número de muestras>_."
    },
    {
      "metadata": {
        "trusted": true
      },
      "cell_type": "code",
      "source": "A = np.arange(-10, 10.01, 0.5)",
      "execution_count": 9,
      "outputs": []
    },
    {
      "metadata": {
        "trusted": true
      },
      "cell_type": "code",
      "source": "print(\"Arreglo: \", A)\nprint(\"Forma: \", A.shape)",
      "execution_count": 10,
      "outputs": [
        {
          "output_type": "stream",
          "text": "('Arreglo: ', array([-10. ,  -9.5,  -9. ,  -8.5,  -8. ,  -7.5,  -7. ,  -6.5,  -6. ,\n        -5.5,  -5. ,  -4.5,  -4. ,  -3.5,  -3. ,  -2.5,  -2. ,  -1.5,\n        -1. ,  -0.5,   0. ,   0.5,   1. ,   1.5,   2. ,   2.5,   3. ,\n         3.5,   4. ,   4.5,   5. ,   5.5,   6. ,   6.5,   7. ,   7.5,\n         8. ,   8.5,   9. ,   9.5,  10. ]))\n('Forma: ', (41,))\n",
          "name": "stdout"
        }
      ]
    },
    {
      "metadata": {
        "trusted": true
      },
      "cell_type": "code",
      "source": "A = np.linspace(-10,10,20)\nprint(\"Arreglo: \", A)\nprint(\"Forma: \", A.shape)",
      "execution_count": 11,
      "outputs": [
        {
          "output_type": "stream",
          "text": "('Arreglo: ', array([-10.        ,  -8.94736842,  -7.89473684,  -6.84210526,\n        -5.78947368,  -4.73684211,  -3.68421053,  -2.63157895,\n        -1.57894737,  -0.52631579,   0.52631579,   1.57894737,\n         2.63157895,   3.68421053,   4.73684211,   5.78947368,\n         6.84210526,   7.89473684,   8.94736842,  10.        ]))\n('Forma: ', (20,))\n",
          "name": "stdout"
        }
      ]
    },
    {
      "metadata": {},
      "cell_type": "markdown",
      "source": "<hr>\n\nGenerar arreglos de valores aleatorios también es posible utilizando numpy.random.rand(dim1, dim2,..., dimn)"
    },
    {
      "metadata": {
        "trusted": true
      },
      "cell_type": "code",
      "source": "A = np.random.rand(5,6)\nprint(A)",
      "execution_count": 12,
      "outputs": [
        {
          "output_type": "stream",
          "text": "[[0.54476085 0.32565085 0.151351   0.01270386 0.15711509 0.68780161]\n [0.93472802 0.87610127 0.47188628 0.52024754 0.11259211 0.3896672 ]\n [0.90296146 0.87011239 0.67786402 0.73492851 0.02301558 0.74762489]\n [0.47978355 0.25346918 0.78683227 0.14158877 0.76570198 0.9237545 ]\n [0.58021426 0.09542851 0.61228243 0.77382957 0.16010967 0.36753277]]\n",
          "name": "stdout"
        }
      ]
    },
    {
      "metadata": {},
      "cell_type": "markdown",
      "source": "## Analicemos\n\nLa definición formal de un número aleatorio en un rango es: $(b-a)*rand + a$. Utilicemos esta definición para crear una matriz aleatoria entre 5 y 15."
    },
    {
      "metadata": {
        "trusted": true
      },
      "cell_type": "code",
      "source": "import math\nimport random\n\nM = np.zeros([5,5])\n\na = 5\nb = 15\n\nfor i in range(5):\n    for j in range(5):\n        M[i,j] = (b-a)*random.random()+a\nprint(M)",
      "execution_count": 16,
      "outputs": [
        {
          "output_type": "stream",
          "text": "[[ 8.15183323 12.04710184  9.53915836 13.31510973  5.66037892]\n [ 5.93949479  8.04131319  5.73466462  5.13381008 11.19897172]\n [12.96051278  5.49785905  5.58895081 14.58608813  7.36759299]\n [ 8.58743896 12.08930176  5.28640708  9.97039429 11.16433148]\n [13.18492785  6.52713692 11.32787314  7.69231602 10.24350019]]\n",
          "name": "stdout"
        }
      ]
    },
    {
      "metadata": {
        "trusted": true
      },
      "cell_type": "code",
      "source": "M = (b-a)*np.random.rand(5,5)+a\n\nprint(M)",
      "execution_count": 20,
      "outputs": [
        {
          "output_type": "stream",
          "text": "[[12.63531159  5.47023447 10.95294297  9.4126404   5.64301708]\n [ 5.65132548  7.0908558  10.04102826  5.82604715  9.9791122 ]\n [12.39659141 12.53548646  7.48368119  6.99264287  5.29954194]\n [10.03720436 12.56333356 14.85116892 12.00336088  8.89180268]\n [11.7563046  10.85993995  8.57924716  8.59810267 12.41021195]]\n",
          "name": "stdout"
        }
      ]
    },
    {
      "metadata": {},
      "cell_type": "markdown",
      "source": "<hr>\n\n# 2. Slicing\n\nComo slicing se conoce a la posibilidad de obtener porciones de un arreglo utilizando notación de índices."
    },
    {
      "metadata": {
        "trusted": true
      },
      "cell_type": "code",
      "source": "A = np.random.rand(5,6)\nprint(A)",
      "execution_count": 22,
      "outputs": [
        {
          "output_type": "stream",
          "text": "[[0.39744971 0.32836772 0.54745603 0.42114605 0.68904603 0.9210734 ]\n [0.00603567 0.51915931 0.39384629 0.08930769 0.53445137 0.58205875]\n [0.72826807 0.38141989 0.57993665 0.7222105  0.17791484 0.9091459 ]\n [0.85075801 0.74934846 0.67955572 0.6747211  0.25475299 0.69915362]\n [0.40339777 0.25673778 0.15741892 0.1737899  0.12430554 0.52848501]]\n",
          "name": "stdout"
        }
      ]
    },
    {
      "metadata": {
        "trusted": true
      },
      "cell_type": "code",
      "source": "R1 = A[0,:]\nR2 = A[:,0]\nR3 = A[1:4, 1:4]\n\nprint(\"Primera fila del arreglo: \", R1)\nprint(\"Primera columna del arreglo: \", R2)\nprint(\"Arreglo de 3x3 desde la fila 1 a la fila 3 y desde la columna 1 a la columna 3\", R3)",
      "execution_count": 23,
      "outputs": [
        {
          "output_type": "stream",
          "text": "('Primera fila del arreglo: ', array([0.39744971, 0.32836772, 0.54745603, 0.42114605, 0.68904603,\n       0.9210734 ]))\n('Primera columna del arreglo: ', array([0.39744971, 0.00603567, 0.72826807, 0.85075801, 0.40339777]))\n('Arreglo de 3x3 desde la fila 1 a la fila 3 y desde la columna 1 a la columna 3', array([[0.51915931, 0.39384629, 0.08930769],\n       [0.38141989, 0.57993665, 0.7222105 ],\n       [0.74934846, 0.67955572, 0.6747211 ]]))\n",
          "name": "stdout"
        }
      ]
    },
    {
      "metadata": {
        "trusted": true
      },
      "cell_type": "code",
      "source": "RH = np.hsplit(A, 6)\nprint(RH)\n\nRV = np.vsplit(A, 5)\nprint(RV)",
      "execution_count": 28,
      "outputs": [
        {
          "output_type": "stream",
          "text": "[array([[0.39744971],\n       [0.00603567],\n       [0.72826807],\n       [0.85075801],\n       [0.40339777]]), array([[0.32836772],\n       [0.51915931],\n       [0.38141989],\n       [0.74934846],\n       [0.25673778]]), array([[0.54745603],\n       [0.39384629],\n       [0.57993665],\n       [0.67955572],\n       [0.15741892]]), array([[0.42114605],\n       [0.08930769],\n       [0.7222105 ],\n       [0.6747211 ],\n       [0.1737899 ]]), array([[0.68904603],\n       [0.53445137],\n       [0.17791484],\n       [0.25475299],\n       [0.12430554]]), array([[0.9210734 ],\n       [0.58205875],\n       [0.9091459 ],\n       [0.69915362],\n       [0.52848501]])]\n[array([[0.39744971, 0.32836772, 0.54745603, 0.42114605, 0.68904603,\n        0.9210734 ]]), array([[0.00603567, 0.51915931, 0.39384629, 0.08930769, 0.53445137,\n        0.58205875]]), array([[0.72826807, 0.38141989, 0.57993665, 0.7222105 , 0.17791484,\n        0.9091459 ]]), array([[0.85075801, 0.74934846, 0.67955572, 0.6747211 , 0.25475299,\n        0.69915362]]), array([[0.40339777, 0.25673778, 0.15741892, 0.1737899 , 0.12430554,\n        0.52848501]])]\n",
          "name": "stdout"
        }
      ]
    },
    {
      "metadata": {},
      "cell_type": "markdown",
      "source": "<hr>\n\n# 3. Funciones básicas y axis\n\nLa mayoría de operaciones útiles al trabajar con arreglos n-dimensionales están implementadas en la libreía Numpy, por ejemplo: sum, std, transpose, power, entre otras.\n\nAnalicemos el siguiente ejemplo de una sumatoria."
    },
    {
      "metadata": {
        "trusted": true
      },
      "cell_type": "code",
      "source": "A = np.random.rand(3,5)\nprint(A)",
      "execution_count": 41,
      "outputs": [
        {
          "output_type": "stream",
          "text": "[[0.14976345 0.34683722 0.3560444  0.58762778 0.25353366]\n [0.44510834 0.45405515 0.47546122 0.14201081 0.0319887 ]\n [0.30895892 0.54253301 0.7215914  0.83738507 0.11944267]]\n",
          "name": "stdout"
        }
      ]
    },
    {
      "metadata": {
        "trusted": true
      },
      "cell_type": "code",
      "source": "#suma = 0\n\nfor i in range(A.shape[0]):\n    suma += A[:,i]\n\nprint(suma)",
      "execution_count": 39,
      "outputs": [
        {
          "output_type": "stream",
          "text": "[5.92035474 5.07654071 3.0280673  5.11416543 4.64224503 5.35201621\n 6.43343627 4.36817665 4.03676457 4.22617537]\n",
          "name": "stdout"
        }
      ]
    },
    {
      "metadata": {},
      "cell_type": "markdown",
      "source": "También podemos utilizar la función sum para lograr el mismo objetivo."
    },
    {
      "metadata": {
        "trusted": true
      },
      "cell_type": "code",
      "source": "np.sum(A, axis=1)",
      "execution_count": 43,
      "outputs": [
        {
          "output_type": "execute_result",
          "execution_count": 43,
          "data": {
            "text/plain": "array([1.69380651, 1.54862422, 2.52991108])"
          },
          "metadata": {}
        }
      ]
    },
    {
      "metadata": {},
      "cell_type": "markdown",
      "source": "La mayoría de funciones que operan arreglos n-dimensionales, cuentan con un parámetro __axis__ que especifica la dimensión sobre la cuál se realiza la operación.\n\nAnalicemos el siguiente ejemplo:"
    },
    {
      "metadata": {
        "trusted": true
      },
      "cell_type": "code",
      "source": "np.random.seed(2) #fijemos la semilla aleatoria para obtener el mismo resultado\n\na = 1\nb = 10\nM = (b-a)*np.random.rand(4,5)+a #Generemos un arreglo numerico aleatorio de dimension 4x5, entre 1 y 10\nprint(M)",
      "execution_count": 12,
      "outputs": [
        {
          "output_type": "stream",
          "text": "[[4.92395412 1.23333609 5.9469623  4.91790153 4.78331022]\n [3.97301339 2.84183771 6.5734387  3.69689206 3.40144548]\n [6.59020449 5.76227885 2.21121951 5.62220309 2.65995879]\n [8.06801633 8.68577763 5.44813154 8.61905337 1.71680929]]\n",
          "name": "stdout"
        }
      ]
    },
    {
      "metadata": {},
      "cell_type": "markdown",
      "source": "Sumemos las filas de la matriz anterior, utilizando el parámetro axis de la función sum:"
    },
    {
      "metadata": {
        "trusted": true
      },
      "cell_type": "code",
      "source": "np.sum(M, axis=1)",
      "execution_count": 13,
      "outputs": [
        {
          "output_type": "execute_result",
          "execution_count": 13,
          "data": {
            "text/plain": "array([21.80546426, 20.48662733, 22.84586473, 32.53778816])"
          },
          "metadata": {}
        }
      ]
    },
    {
      "metadata": {},
      "cell_type": "markdown",
      "source": "Sumemos las columnas de la matriz anterior, utilizando el parámetro axis de la función sum:"
    },
    {
      "metadata": {
        "trusted": true
      },
      "cell_type": "code",
      "source": "np.sum(M, axis=0)",
      "execution_count": 14,
      "outputs": [
        {
          "output_type": "execute_result",
          "execution_count": 14,
          "data": {
            "text/plain": "array([23.55518833, 18.52323028, 20.17975204, 22.85605006, 12.56152378])"
          },
          "metadata": {}
        }
      ]
    },
    {
      "metadata": {},
      "cell_type": "markdown",
      "source": "<hr>\n\n## Analicemos\n\n1. A que se refiere el parámetro axis?\n2. Si tengo un arreglo A de dimension MxNxL y aplico np.sum(A, axis=1), ¿de qué dimensión es el arreglo resultante?"
    },
    {
      "metadata": {
        "trusted": true
      },
      "cell_type": "code",
      "source": "K = np.random.rand(3,4,6,7)\nR = np.sum(K, axis=2)\nprint(R.shape)",
      "execution_count": 46,
      "outputs": [
        {
          "output_type": "stream",
          "text": "(3, 4, 7)\n",
          "name": "stdout"
        }
      ]
    },
    {
      "metadata": {},
      "cell_type": "markdown",
      "source": "<hr>\n\n# 4. Funciones vectorizadas\n\nNumpy contiene las versiones vectorizadas de las funciones de la librería math, por ejemplo: \n- math.sin --> numpy.sin\n- math.exp --> numpy.exp\n\nA diferencia de las funciones de la librería math, las versiones vectorizadas pueden recibir arreglos n-dimensionales como argumentos."
    },
    {
      "metadata": {
        "trusted": true
      },
      "cell_type": "code",
      "source": "import math \n\ndef sigmoid(z):\n    return 1. / (1. + math.exp(-z))",
      "execution_count": 56,
      "outputs": []
    },
    {
      "metadata": {
        "trusted": true
      },
      "cell_type": "code",
      "source": "sigmoid_vec = np.vectorize(sigmoid)",
      "execution_count": 60,
      "outputs": []
    },
    {
      "metadata": {
        "trusted": true
      },
      "cell_type": "code",
      "source": "z = -100\nprint(sigmoid(z))",
      "execution_count": 57,
      "outputs": [
        {
          "output_type": "stream",
          "text": "3.72007597602e-44\n",
          "name": "stdout"
        }
      ]
    },
    {
      "metadata": {
        "trusted": true
      },
      "cell_type": "code",
      "source": "z = np.linspace(-10,10,100)\ny = sigmoid_vec(z)",
      "execution_count": 61,
      "outputs": []
    },
    {
      "metadata": {
        "trusted": true
      },
      "cell_type": "code",
      "source": "import matplotlib.pyplot as plt\n\nplt.plot(z,y)\nplt.show()",
      "execution_count": 62,
      "outputs": [
        {
          "output_type": "display_data",
          "data": {
            "image/png": "[encoded data removed]",
            "text/plain": "<Figure size 432x288 with 1 Axes>"
          },
          "metadata": {
            "needs_background": "light"
          }
        }
      ]
    },
    {
      "metadata": {},
      "cell_type": "markdown",
      "source": "<hr>\n\n## Trabajemos\n\nVectoricemos la función sigmoide definida anteriormente. Para ello puede revisar:\n\n- numpy.vectorize\n- numpy.exp"
    },
    {
      "metadata": {},
      "cell_type": "markdown",
      "source": "<hr>\n\n# 4.1. Vectorización y Broadcasting"
    },
    {
      "metadata": {
        "trusted": true
      },
      "cell_type": "code",
      "source": "np.random.seed(2)\nA = np.random.rand(10000000)\nB = np.random.rand(10000000)\n\nprint A",
      "execution_count": 78,
      "outputs": [
        {
          "output_type": "stream",
          "text": "[0.4359949  0.02592623 0.54966248 ... 0.92851865 0.66632148 0.12215498]\n",
          "name": "stdout"
        }
      ]
    },
    {
      "metadata": {
        "trusted": true
      },
      "cell_type": "code",
      "source": "import time",
      "execution_count": 79,
      "outputs": []
    },
    {
      "metadata": {
        "trusted": true
      },
      "cell_type": "code",
      "source": "tic = time.time()\n\nsuma = 0\n\nfor i in range(10000000):\n    suma += A[i]*B[i]\n\ntoc = time.time()\n\nprint(suma)\nprint(\"Elapsed time: \", (toc-tic)*1000)",
      "execution_count": 80,
      "outputs": [
        {
          "output_type": "stream",
          "text": "2501003.0002007955\n('Elapsed time: ', 9536.498069763184)\n",
          "name": "stdout"
        }
      ]
    },
    {
      "metadata": {
        "trusted": true
      },
      "cell_type": "code",
      "source": "tic = time.time()\n\nsuma = np.dot(A,B)\nprint(suma)\n\ntoc = time.time()\n\nprint(\"Elapsed time: \", (toc-tic)*1000)",
      "execution_count": 81,
      "outputs": [
        {
          "output_type": "stream",
          "text": "2501003.0002009235\n('Elapsed time: ', 17.355918884277344)\n",
          "name": "stdout"
        }
      ]
    },
    {
      "metadata": {
        "trusted": true
      },
      "cell_type": "code",
      "source": "np.random.seed(2)\n\nA = np.random.rand(4,3)\nk = np.random.rand(4,1)\n\nprint(A)\nprint(k)\nprint(A+k)",
      "execution_count": 97,
      "outputs": [
        {
          "output_type": "stream",
          "text": "[[0.4359949  0.02592623 0.54966248]\n [0.43532239 0.4203678  0.33033482]\n [0.20464863 0.61927097 0.29965467]\n [0.26682728 0.62113383 0.52914209]]\n[[0.13457995]\n [0.51357812]\n [0.18443987]\n [0.78533515]]\n[[0.57057485 0.16050618 0.68424242]\n [0.94890051 0.93394592 0.84391294]\n [0.3890885  0.80371083 0.48409454]\n [1.05216242 1.40646898 1.31447724]]\n",
          "name": "stdout"
        }
      ]
    },
    {
      "metadata": {
        "trusted": true
      },
      "cell_type": "markdown",
      "source": "<hr>\n\n# Trabajemos\n\nSupongamos dos arreglos A y B de tamaño $m \\times 2$, donde $m$ es un número de puntos y $2$ es la dimensión de los puntos, es decir, 2D para este ejemplo.\n\nVectorizar la distancia Euclídea entre cada punto 2D en A y su correspondiente punto 2D en B. El resultado debe ser un arreglo de dimensión $m$."
    },
    {
      "metadata": {
        "trusted": true
      },
      "cell_type": "code",
      "source": "np.random.seed(2)\n\nm = 100\n\nA = np.random.rand(m, 4)\nB = np.random.rand(m, 4)",
      "execution_count": 110,
      "outputs": []
    },
    {
      "metadata": {
        "trusted": true,
        "scrolled": true
      },
      "cell_type": "code",
      "source": "import matplotlib.pyplot as plt\n\nplt.plot(A, 'r*')\nplt.plot(B, 'b*')\nplt.show()",
      "execution_count": 100,
      "outputs": [
        {
          "output_type": "display_data",
          "data": {
            "image/png": "[encoded data removed]",
            "text/plain": "<Figure size 432x288 with 1 Axes>"
          },
          "metadata": {
            "needs_background": "light"
          }
        }
      ]
    },
    {
      "metadata": {
        "trusted": true
      },
      "cell_type": "code",
      "source": "np.sqrt(np.sum((A-B)**2, axis=1))",
      "execution_count": 111,
      "outputs": [
        {
          "output_type": "execute_result",
          "execution_count": 111,
          "data": {
            "text/plain": "array([0.58183114, 0.65014207, 0.91133382, 0.67557112, 1.08997052,\n       1.21343086, 1.16536852, 0.83124803, 0.65329862, 0.77163624,\n       0.78751514, 0.38817249, 0.66463221, 0.68062536, 0.72956974,\n       0.8375279 , 0.78106683, 0.95077998, 0.64407874, 0.79632858,\n       0.77660859, 0.35085919, 0.84403629, 0.55410579, 0.70544455,\n       0.7765965 , 0.51352558, 0.60731653, 0.64428623, 0.41366748,\n       0.69596027, 1.10256593, 0.7236202 , 0.82710401, 1.15203082,\n       0.67751511, 0.22950285, 0.48426237, 0.97116095, 0.56750996,\n       0.8829261 , 0.73847001, 0.26062813, 0.78276049, 0.85135436,\n       0.99863735, 0.76745901, 1.22517345, 0.75671281, 0.67871343,\n       0.67907385, 0.87165135, 0.63028634, 1.14875574, 0.49532619,\n       1.20534435, 0.68386168, 0.81451969, 0.61029765, 0.71611809,\n       0.370141  , 0.97822608, 0.64800398, 0.73884719, 0.52080076,\n       0.61667502, 0.69217331, 0.89739305, 0.70777541, 0.7984498 ,\n       0.78429929, 0.38806551, 0.38115622, 0.46757527, 0.84979312,\n       0.41925814, 0.90641148, 0.60663548, 0.52429963, 0.85022939,\n       0.58170444, 0.99867757, 0.99327285, 0.85393727, 0.29218448,\n       1.11122625, 0.68783961, 0.45793562, 1.02696028, 1.34242285,\n       0.81433572, 0.74379463, 0.48927743, 0.85651582, 0.72038442,\n       0.89349618, 0.69058088, 0.37472559, 0.36818961, 0.52067971])"
          },
          "metadata": {}
        }
      ]
    },
    {
      "metadata": {
        "trusted": true
      },
      "cell_type": "code",
      "source": "A = np.random.rand(3, 2)\nB = np.random.rand(3, 2)\n\nprint(A,B)",
      "execution_count": 105,
      "outputs": [
        {
          "output_type": "stream",
          "text": "(array([[0.53284089, 0.80633521],\n       [0.03427548, 0.15406612],\n       [0.74818503, 0.3848699 ]]), array([[0.31789849, 0.57200881],\n       [0.37242052, 0.90952991],\n       [0.38697123, 0.8362492 ]]))\n",
          "name": "stdout"
        }
      ]
    },
    {
      "metadata": {
        "trusted": true
      },
      "cell_type": "code",
      "source": "np.sqrt(np.sum((A-B)**2, axis=1))",
      "execution_count": 109,
      "outputs": [
        {
          "output_type": "execute_result",
          "execution_count": 109,
          "data": {
            "text/plain": "array([0.31797657, 0.82768811, 0.5781165 ])"
          },
          "metadata": {}
        }
      ]
    },
    {
      "metadata": {
        "trusted": true
      },
      "cell_type": "markdown",
      "source": "<hr>\n\n# 5. IO en archivos"
    },
    {
      "metadata": {},
      "cell_type": "markdown",
      "source": "## Trabajemos\n\n### Ejercicio 1\n_\"Plot exact and inexact Fahrenheit-Celsius conversion formulas. A simple rule to quickly compute the Celsius temperature from the Fahrenheit degrees is to subtract 30 and then divide by 2: . Compare this curve against the exact curve  in a plot. Let F vary between −20 and 120.”_  Fragmento de: Hans Petter Langtangen. “A Primer on Scientific Programming with Python”. Apple Books. \n\nFormula inexacta: $C = \\frac{F-30}{2}$\n<br>\nFormula exacta: $C = (F-32)*\\frac{5}{9}$\n\n1. Utilizando nd-arrays, compute los resultados de las formulas anteriores.\n2. Almacene los resultados tabulados en un archivo txt.\n3. Utilice la libreria pickle para almacenar los arreglos en un archivo .pk\n4. Grafique ambas curvas utilizando pyplot.plot(x,y, 'codigo de color')\n\n\n### Ejercicio 2\n\n“The file xy.dat contains two columns of numbers, corresponding to x and y coordinates on a curve. The start of the file looks as this:\n\nMake a program that reads the first column into a list x and the second column into a list y. Plot the curve. Print out the mean y value as well as the maximum and minimum y values.\nHint.\nRead the file line by line, split each line into words, convert to float, and append to x and y. The computations with y are simpler if the list is converted to an array.”\n\nFragmento de: Hans Petter Langtangen. “A Primer on Scientific Programming with Python”. Apple Books. \n\n\n### Ejercicio 3\n\n“The formula for the trajectory of a ball is given by $f(x) = tan\\theta - \\frac{1}{2v_0^2}\\frac{gx^2}{cos^2 \\theta}+y_0$ where x is a coordinate along the ground, g is the acceleration of gravity, v 0 is the size of the initial velocity, which makes an angle θ with the x axis, and  is the initial position of the ball. In a program, first read the input data $y_0, \\theta$, and $v_0$ and plot the trajectory $y = f(x)$ for $y >= 0$ ”\n\nFragmento de: Hans Petter Langtangen. “A Primer on Scientific Programming with Python”. Apple Books. "
    },
    {
      "metadata": {
        "trusted": true
      },
      "cell_type": "code",
      "source": "",
      "execution_count": null,
      "outputs": []
    }
  ],
  "metadata": {
    "kernelspec": {
      "name": "python2",
      "display_name": "Python 2",
      "language": "python"
    },
    "language_info": {
      "mimetype": "text/x-python",
      "nbconvert_exporter": "python",
      "name": "python",
      "pygments_lexer": "ipython2",
      "version": "2.7.15",
      "file_extension": ".py",
      "codemirror_mode": {
        "version": 2,
        "name": "ipython"
      }
    }
  },
  "nbformat": 4,
  "nbformat_minor": 1
}