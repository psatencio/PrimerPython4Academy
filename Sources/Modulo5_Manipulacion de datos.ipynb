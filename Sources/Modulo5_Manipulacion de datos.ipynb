{
  "cells": [
    {
      "metadata": {},
      "cell_type": "markdown",
      "source": "<img src=\"http://www.redttu.edu.co/es/wp-content/uploads/2016/01/itm.png\" alt=\"drawing\" width=\"400\"/>\n\n<hr>\n\nPedro Atencio - 2019"
    },
    {
      "metadata": {},
      "cell_type": "markdown",
      "source": "__Agenda__:\n\n- Numpy\n    - Inicializacion de arreglos y acceso.\n        - Shape.\n        - Zeros, Ones, linspace, arange.\n    - Slicing.\n    - Funciones básicas y axis.\n        - sum, mean, std, linalg.norm, random.\n        - hsplit, vsplit.\n        - python math vs numpy.\n            - Ejemplo: funcion sigmoide.\n    - Funciones de la clase nd-array (built-in) vs funciones de numpy.\n    - Vectorization / Broadcasting\n        - sumatorias y multiplicación de vectores.\n        - Ejemplo: distancia euclidea.\n        \n- IO en Archivos"
    },
    {
      "metadata": {
        "trusted": true
      },
      "cell_type": "markdown",
      "source": " <hr>\n # 1. Inicializacion de arreglos y acceso."
    },
    {
      "metadata": {
        "trusted": true
      },
      "cell_type": "code",
      "source": "import numpy\nimport numpy as np",
      "execution_count": 1,
      "outputs": []
    },
    {
      "metadata": {
        "trusted": true
      },
      "cell_type": "code",
      "source": "A = np.array([[1],[2],[3]]) #creamos un arreglo manualmente. \nprint(\"Tamanio del arreglo: \",A.shape) #imprimimos su tamanio\nprint(\"Tipo de dato (clase) del arreglo: \", type(A))\nprint(\"Num fils: \", A.shape[0])\nprint(\"Num cols: \", A.shape[1])",
      "execution_count": 2,
      "outputs": [
        {
          "output_type": "stream",
          "text": "('Tamanio del arreglo: ', (3, 1))\n('Tipo de dato (clase) del arreglo: ', <type 'numpy.ndarray'>)\n('Num fils: ', 3)\n('Num cols: ', 1)\n",
          "name": "stdout"
        }
      ]
    },
    {
      "metadata": {},
      "cell_type": "markdown",
      "source": "<a href=\"https://docs.scipy.org/doc/numpy/reference/arrays.ndarray.html\">Consultar Numpy nd-array.</a>"
    },
    {
      "metadata": {
        "trusted": true,
        "scrolled": true
      },
      "cell_type": "code",
      "source": "A = np.zeros([3,3]) #creamos un arreglo lleno de ceros o unos de tamanio 3x4\n#A = np.ones([3,3])\nprint(\"Arreglo: \", A)\nprint(\"Size: \", A.shape)",
      "execution_count": 3,
      "outputs": [
        {
          "output_type": "stream",
          "text": "('Arreglo: ', array([[0., 0., 0.],\n       [0., 0., 0.],\n       [0., 0., 0.]]))\n('Size: ', (3, 3))\n",
          "name": "stdout"
        }
      ]
    },
    {
      "metadata": {},
      "cell_type": "markdown",
      "source": "<hr>\nUna forma útil de generar arreglos consiste en la utilización de las funciones __arange__ y __linspace__, las cuales permiten generar arreglos secuenciales en un rango de valores.\n\n- __arange__: Permite crear arreglos de secuencias numéricas, indicando: _<inicio, fin, paso>_.\n- __linspace__: Permite crear arreglos de secuencias numéricas, indicando: _<inicio, fin, número de muestras>_."
    },
    {
      "metadata": {
        "trusted": true
      },
      "cell_type": "code",
      "source": "A = np.arange(-10, 10.01, 0.5)",
      "execution_count": 4,
      "outputs": []
    },
    {
      "metadata": {
        "trusted": true
      },
      "cell_type": "code",
      "source": "print(\"Arreglo: \", A)\nprint(\"Forma: \", A.shape)",
      "execution_count": 5,
      "outputs": [
        {
          "output_type": "stream",
          "text": "('Arreglo: ', array([-10. ,  -9.5,  -9. ,  -8.5,  -8. ,  -7.5,  -7. ,  -6.5,  -6. ,\n        -5.5,  -5. ,  -4.5,  -4. ,  -3.5,  -3. ,  -2.5,  -2. ,  -1.5,\n        -1. ,  -0.5,   0. ,   0.5,   1. ,   1.5,   2. ,   2.5,   3. ,\n         3.5,   4. ,   4.5,   5. ,   5.5,   6. ,   6.5,   7. ,   7.5,\n         8. ,   8.5,   9. ,   9.5,  10. ]))\n('Forma: ', (41,))\n",
          "name": "stdout"
        }
      ]
    },
    {
      "metadata": {
        "trusted": true
      },
      "cell_type": "code",
      "source": "A = np.linspace(-10,10,20)\nprint(\"Arreglo: \", A)\nprint(\"Forma: \", A.shape)",
      "execution_count": 6,
      "outputs": [
        {
          "output_type": "stream",
          "text": "('Arreglo: ', array([-10.        ,  -8.94736842,  -7.89473684,  -6.84210526,\n        -5.78947368,  -4.73684211,  -3.68421053,  -2.63157895,\n        -1.57894737,  -0.52631579,   0.52631579,   1.57894737,\n         2.63157895,   3.68421053,   4.73684211,   5.78947368,\n         6.84210526,   7.89473684,   8.94736842,  10.        ]))\n('Forma: ', (20,))\n",
          "name": "stdout"
        }
      ]
    },
    {
      "metadata": {},
      "cell_type": "markdown",
      "source": "<hr>\n\nGenerar arreglos de valores aleatorios también es posible utilizando numpy.random.rand(dim1, dim2,..., dimn)"
    },
    {
      "metadata": {
        "trusted": true
      },
      "cell_type": "code",
      "source": "A = np.random.rand(5,6)\nprint(A)",
      "execution_count": 7,
      "outputs": [
        {
          "output_type": "stream",
          "text": "[[0.85468641 0.31549793 0.28342089 0.64796154 0.08402538 0.04241277]\n [0.84656612 0.12804097 0.14898423 0.96317729 0.18032586 0.51630555]\n [0.28061678 0.18706043 0.30023788 0.27623656 0.62921691 0.78169216]\n [0.97670746 0.94100713 0.34036887 0.79357229 0.37709082 0.28563833]\n [0.2425262  0.23927799 0.11244662 0.56364232 0.43297187 0.54060656]]\n",
          "name": "stdout"
        }
      ]
    },
    {
      "metadata": {},
      "cell_type": "markdown",
      "source": "## Analicemos\n\nLa definición formal de un número aleatorio en un rango es: $(b-a)*rand + a$. Utilicemos esta definición para crear una matriz aleatoria entre 5 y 15."
    },
    {
      "metadata": {},
      "cell_type": "markdown",
      "source": "<hr>\n\n# 2. Slicing\n\nComo slicing se conoce a la posibilidad de obtener porciones de un arreglo utilizando notación de índices."
    },
    {
      "metadata": {
        "trusted": true
      },
      "cell_type": "code",
      "source": "A = np.random.rand(5,6)\nprint(A)",
      "execution_count": 8,
      "outputs": [
        {
          "output_type": "stream",
          "text": "[[0.7876265  0.7275534  0.91507218 0.99869585 0.64285678 0.40641218]\n [0.06907911 0.26273821 0.2363341  0.76606111 0.35796408 0.08438152]\n [0.9098785  0.02092555 0.50612432 0.21105004 0.47186633 0.10502606]\n [0.30807062 0.26517227 0.98438605 0.54446289 0.12190736 0.60612249]\n [0.34789405 0.35173787 0.61010419 0.32197509 0.24408443 0.90812024]]\n",
          "name": "stdout"
        }
      ]
    },
    {
      "metadata": {
        "trusted": true
      },
      "cell_type": "code",
      "source": "R1 = A[0,:]\nR2 = A[:,0]\nR3 = A[1:4, 1:4]\n\nprint(\"Primera fila del arreglo: \", R1)\nprint(\"Primera columna del arreglo: \", R2)\nprint(\"Arreglo de 3x3 desde la fila 1 a la fila 3 y desde la columna 1 a la columna 3\", R3)",
      "execution_count": 9,
      "outputs": [
        {
          "output_type": "stream",
          "text": "('Primera fila del arreglo: ', array([0.7876265 , 0.7275534 , 0.91507218, 0.99869585, 0.64285678,\n       0.40641218]))\n('Primera columna del arreglo: ', array([0.7876265 , 0.06907911, 0.9098785 , 0.30807062, 0.34789405]))\n('Arreglo de 3x3 desde la fila 1 a la fila 3 y desde la columna 1 a la columna 3', array([[0.26273821, 0.2363341 , 0.76606111],\n       [0.02092555, 0.50612432, 0.21105004],\n       [0.26517227, 0.98438605, 0.54446289]]))\n",
          "name": "stdout"
        }
      ]
    },
    {
      "metadata": {},
      "cell_type": "markdown",
      "source": "<hr>\n\n# 3. Funciones básicas y axis\n\nLa mayoría de operaciones útiles al trabajar con arreglos n-dimensionales están implementadas en la libreía Numpy, por ejemplo: sum, std, transpose, power, entre otras.\n\nAnalicemos el siguiente ejemplo de una sumatoria."
    },
    {
      "metadata": {
        "trusted": true
      },
      "cell_type": "code",
      "source": "suma = 0\nfor i in range(A.shape[0]):\n    suma += A[i]\n\nprint(suma)",
      "execution_count": 10,
      "outputs": [
        {
          "output_type": "stream",
          "text": "[2.42254878 1.6281273  3.25202084 2.84224497 1.83867898 2.1100625 ]\n",
          "name": "stdout"
        }
      ]
    },
    {
      "metadata": {},
      "cell_type": "markdown",
      "source": "También podemos utilizar la función sum para lograr el mismo objetivo."
    },
    {
      "metadata": {
        "trusted": true
      },
      "cell_type": "code",
      "source": "np.sum(A)",
      "execution_count": 11,
      "outputs": [
        {
          "output_type": "execute_result",
          "execution_count": 11,
          "data": {
            "text/plain": "14.093683367265154"
          },
          "metadata": {}
        }
      ]
    },
    {
      "metadata": {},
      "cell_type": "markdown",
      "source": "La mayoría de funciones que operan arreglos n-dimensionales, cuentan con un parámetro __axis__ que especifica la dimensión sobre la cuál se realiza la operación.\n\nAnalicemos el siguiente ejemplo:"
    },
    {
      "metadata": {
        "trusted": true
      },
      "cell_type": "code",
      "source": "np.random.seed(2) #fijemos la semilla aleatoria para obtener el mismo resultado\n\na = 1\nb = 10\nM = (b-a)*np.random.rand(4,5)+a #Generemos un arreglo numerico aleatorio de dimension 4x5, entre 1 y 10\nprint(M)",
      "execution_count": 12,
      "outputs": [
        {
          "output_type": "stream",
          "text": "[[4.92395412 1.23333609 5.9469623  4.91790153 4.78331022]\n [3.97301339 2.84183771 6.5734387  3.69689206 3.40144548]\n [6.59020449 5.76227885 2.21121951 5.62220309 2.65995879]\n [8.06801633 8.68577763 5.44813154 8.61905337 1.71680929]]\n",
          "name": "stdout"
        }
      ]
    },
    {
      "metadata": {},
      "cell_type": "markdown",
      "source": "Sumemos las filas de la matriz anterior, utilizando el parámetro axis de la función sum:"
    },
    {
      "metadata": {
        "trusted": true
      },
      "cell_type": "code",
      "source": "np.sum(M, axis=1)",
      "execution_count": 13,
      "outputs": [
        {
          "output_type": "execute_result",
          "execution_count": 13,
          "data": {
            "text/plain": "array([21.80546426, 20.48662733, 22.84586473, 32.53778816])"
          },
          "metadata": {}
        }
      ]
    },
    {
      "metadata": {},
      "cell_type": "markdown",
      "source": "Sumemos las columnas de la matriz anterior, utilizando el parámetro axis de la función sum:"
    },
    {
      "metadata": {
        "trusted": true
      },
      "cell_type": "code",
      "source": "np.sum(M, axis=0)",
      "execution_count": 14,
      "outputs": [
        {
          "output_type": "execute_result",
          "execution_count": 14,
          "data": {
            "text/plain": "array([23.55518833, 18.52323028, 20.17975204, 22.85605006, 12.56152378])"
          },
          "metadata": {}
        }
      ]
    },
    {
      "metadata": {},
      "cell_type": "markdown",
      "source": "<hr>\n\n## Analicemos\n\n1. A que se refiere el parámetro axis?\n2. Si tengo un arreglo A de dimension MxNxL y aplico np.sum(A, axis=1), ¿de qué dimensión es el arreglo resultante?"
    },
    {
      "metadata": {},
      "cell_type": "markdown",
      "source": "<hr>\n\n# 4. Funciones vectorizadas\n\nNumpy contiene las versiones vectorizadas de las funciones de la librería math, por ejemplo: \n- math.sin --> numpy.sin\n- math.exp --> numpy.exp\n\nA diferencia de las funciones de la librería math, las versiones vectorizadas pueden recibir arreglos n-dimensionales como argumentos."
    },
    {
      "metadata": {
        "trusted": true
      },
      "cell_type": "code",
      "source": "import math \n\ndef sigmoid(z):\n    return 1. / (1. + math.exp(-z))",
      "execution_count": 15,
      "outputs": []
    },
    {
      "metadata": {
        "trusted": true
      },
      "cell_type": "code",
      "source": "z = -100\nprint(sigmoid(z))",
      "execution_count": 16,
      "outputs": [
        {
          "output_type": "stream",
          "text": "3.72007597602e-44\n",
          "name": "stdout"
        }
      ]
    },
    {
      "metadata": {},
      "cell_type": "markdown",
      "source": "<hr>\n\n## Trabajemos\n\nVectoricemos la función sigmoide definida anteriormente. Para ello puede revisar:\n\n- numpy.vectorize\n- numpy.exp"
    },
    {
      "metadata": {},
      "cell_type": "markdown",
      "source": "<hr>\n\n# 4.1. Vectorización y Broadcasting"
    },
    {
      "metadata": {
        "trusted": true
      },
      "cell_type": "code",
      "source": "np.random.seed(2)\nA = np.random.rand(1000000)\nB = np.random.rand(1000000)\n\nprint A",
      "execution_count": 17,
      "outputs": [
        {
          "output_type": "stream",
          "text": "[0.4359949  0.02592623 0.54966248 ... 0.78483191 0.00778062 0.42442656]\n",
          "name": "stdout"
        }
      ]
    },
    {
      "metadata": {
        "trusted": true
      },
      "cell_type": "code",
      "source": "import time",
      "execution_count": 18,
      "outputs": []
    },
    {
      "metadata": {
        "trusted": true
      },
      "cell_type": "code",
      "source": "tic = time.time()\n\nsuma = 0\nfor i in range(1000000):\n    suma += A[i] * B[i]\n\nprint(suma)\n\ntoc = time.time()\n\nprint(\"Elapsed time: \", (toc-tic)*1000)",
      "execution_count": 19,
      "outputs": [
        {
          "output_type": "stream",
          "text": "249936.90802277546\n('Elapsed time: ', 722.5990295410156)\n",
          "name": "stdout"
        }
      ]
    },
    {
      "metadata": {
        "trusted": true
      },
      "cell_type": "code",
      "source": "tic = time.time()\n\nsuma = np.dot(A,B)\nprint(suma)\n\ntoc = time.time()\n\nprint(\"Elapsed time: \", (toc-tic)*1000)",
      "execution_count": 20,
      "outputs": [
        {
          "output_type": "stream",
          "text": "249936.9080227735\n('Elapsed time: ', 1.8968582153320312)\n",
          "name": "stdout"
        }
      ]
    },
    {
      "metadata": {
        "trusted": true
      },
      "cell_type": "markdown",
      "source": "<hr>\n\n# Trabajemos\n\nSupongamos dos arreglos A y B de tamaño $m \\times 2$, donde $m$ es un número de puntos y $2$ es la dimensión de los puntos, es decir, 2D para este ejemplo.\n\nVectorizar la distancia Euclídea entre cada punto 2D en A y su correspondiente punto 2D en B. El resultado debe ser un arreglo de dimensión $m$."
    },
    {
      "metadata": {
        "trusted": true
      },
      "cell_type": "code",
      "source": "np.random.seed(2)\n\nm = 100\n\nA = np.random.rand(m, 2)\nB = np.random.rand(m, 2)",
      "execution_count": 23,
      "outputs": []
    },
    {
      "metadata": {
        "trusted": true,
        "scrolled": true
      },
      "cell_type": "code",
      "source": "import matplotlib.pyplot as plt\n\nplt.plot(A, 'r*')\nplt.plot(B, 'b*')\nplt.show()",
      "execution_count": 25,
      "outputs": [
        {
          "output_type": "display_data",
          "data": {
            "image/png": "[encoded data removed]",
            "text/plain": "<Figure size 432x288 with 1 Axes>"
          },
          "metadata": {
            "needs_background": "light"
          }
        }
      ]
    },
    {
      "metadata": {
        "trusted": true
      },
      "cell_type": "code",
      "source": "",
      "execution_count": null,
      "outputs": []
    }
  ],
  "metadata": {
    "kernelspec": {
      "name": "python2",
      "display_name": "Python 2",
      "language": "python"
    }
  },
  "nbformat": 4,
  "nbformat_minor": 1
}