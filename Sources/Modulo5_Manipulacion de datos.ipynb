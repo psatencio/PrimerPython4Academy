{
  "cells": [
    {
      "metadata": {},
      "cell_type": "markdown",
      "source": "<img src=\"http://www.redttu.edu.co/es/wp-content/uploads/2016/01/itm.png\" alt=\"drawing\" width=\"400\"/>\n\n<hr>\n\nPedro Atencio - 2019"
    },
    {
      "metadata": {},
      "cell_type": "markdown",
      "source": "__Agenda__:\n\n- Numpy\n    - Inicializacion de arreglos y acceso.\n        - Shape.\n        - Zeros, Ones, linspace, arange.\n    - Slicing.\n    - Funciones básicas y axis.\n        - sum, mean, std, linalg.norm, random.\n        - hsplit, vsplit.\n        - python math vs numpy.\n            - Ejemplo: funcion sigmoide.\n    - Funciones de la clase nd-array (built-in) vs funciones de numpy.\n    - Vectorization / Broadcasting\n        - sumatorias y multiplicación de vectores.\n        - Ejemplo: distancia euclidea."
    },
    {
      "metadata": {
        "trusted": true
      },
      "cell_type": "code",
      "source": "import numpy\nimport numpy as np",
      "execution_count": 10,
      "outputs": []
    },
    {
      "metadata": {
        "trusted": true
      },
      "cell_type": "code",
      "source": "",
      "execution_count": null,
      "outputs": []
    }
  ],
  "metadata": {
    "kernelspec": {
      "name": "python2",
      "display_name": "Python 2",
      "language": "python"
    },
    "language_info": {
      "mimetype": "text/x-python",
      "nbconvert_exporter": "python",
      "name": "python",
      "pygments_lexer": "ipython2",
      "version": "2.7.15",
      "file_extension": ".py",
      "codemirror_mode": {
        "version": 2,
        "name": "ipython"
      }
    }
  },
  "nbformat": 4,
  "nbformat_minor": 1
}