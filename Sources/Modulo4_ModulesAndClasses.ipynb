{
  "cells": [
    {
      "metadata": {},
      "cell_type": "markdown",
      "source": "<img src=\"http://www.redttu.edu.co/es/wp-content/uploads/2016/01/itm.png\" alt=\"drawing\" width=\"400\"/>\n\n<hr>\n\nPedro Atencio - 2019"
    },
    {
      "metadata": {},
      "cell_type": "markdown",
      "source": "<hr>\n\n# Módulo 4: Módulos y Clases\n\n## Agenda:\n\n1. __Discusión__: Criba de Erastostenes\n2. Modulos.\n    - 2.1. Agrupando codigo en archivos .py.\n    - 2.2. organizando utilidades en carpetas.\n3. Introduccion a Clases y programacion orientada a objetos.\n    - 3.1. Clases y objetos.\n    - 3.2. Diagrama de clases.\n    - 3.3. Instancias.\n    - 3.4. Ejemplo."
    },
    {
      "metadata": {
        "trusted": true
      },
      "cell_type": "code",
      "source": "from PrimeUtils2 import cribaErastostenes",
      "execution_count": null,
      "outputs": []
    },
    {
      "metadata": {
        "trusted": true
      },
      "cell_type": "code",
      "source": "cribaErastostenes(10)",
      "execution_count": null,
      "outputs": []
    },
    {
      "metadata": {
        "trusted": true
      },
      "cell_type": "code",
      "source": "from UtilidadesPrimos.PrimeUtils2 import cribaErastostenes",
      "execution_count": null,
      "outputs": []
    },
    {
      "metadata": {},
      "cell_type": "markdown",
      "source": "<img src=\"https://upload.wikimedia.org/wikipedia/commons/thumb/4/41/Alan_Kay_%283097597186%29_%28cropped%29.jpg/400px-Alan_Kay_%283097597186%29_%28cropped%29.jpg\" width=200>\n<center>Alan Kay - UCLA. Considerado el padre de la programacion orientada a objetos.</center>\n\n### Historia:\n\n- SIMULA: 1962 (Ole-Johan Dahl)\n- SmallTalk: 1969 (Alan Kay)\n- C++: 1979 (Bjarne Stroup)"
    },
    {
      "metadata": {},
      "cell_type": "markdown",
      "source": "<hr>\n\n## 2. Clases\n\n### Python DataModel\nhttps://docs.python.org/3/reference/datamodel.html\n\nImplementemos una clase Point2D como un punto en el espacio cartersiano $\\in R^2$. Implementemos el constructor, el método norma, producto punto y operaciones básicas suma y resta."
    },
    {
      "metadata": {
        "trusted": true
      },
      "cell_type": "code",
      "source": "import math",
      "execution_count": null,
      "outputs": []
    },
    {
      "metadata": {
        "trusted": true
      },
      "cell_type": "code",
      "source": "class Punto2D:\n    def __init__(self, x=0, y=0):\n        self.x = x\n        self.y = y\n        \n    def distancia(self, otro_punto):\n        return math.sqrt((self.x-otro_punto.x)**2 + (self.y - otro_punto.y)**2)\n    \n    def __add__(self, otro_punto):\n        return Punto2D(x=self.x+otro_punto.x, y=self.y+otro_punto.y)\n    \n    def __str__(self):\n        return \"x: \"+str(self.x)+\" y: \"+str(self.y) \n    \n    \"\"\"\n    TODO:\n        1. Producto punto.\n        2. Producto cruz utilizando el operador *\n        3. norma l.\n    \"\"\"\n    ",
      "execution_count": null,
      "outputs": []
    },
    {
      "metadata": {
        "trusted": true
      },
      "cell_type": "code",
      "source": "punto1 = Punto2D(x=2,y=3)\npunto2 = Punto2D(x=3,y=4)\npunto3 = Punto2D(x=1, y = 5)",
      "execution_count": null,
      "outputs": []
    },
    {
      "metadata": {
        "trusted": true
      },
      "cell_type": "code",
      "source": "distancia = punto2.distancia(punto1)\nprint(distancia)",
      "execution_count": null,
      "outputs": []
    },
    {
      "metadata": {
        "trusted": true
      },
      "cell_type": "code",
      "source": "punto4 = punto2 + punto1",
      "execution_count": null,
      "outputs": []
    },
    {
      "metadata": {
        "trusted": true
      },
      "cell_type": "code",
      "source": "print(punto3)",
      "execution_count": null,
      "outputs": []
    },
    {
      "metadata": {},
      "cell_type": "markdown",
      "source": "<hr>\n\n## 2.1. Herencia"
    },
    {
      "metadata": {
        "trusted": true
      },
      "cell_type": "code",
      "source": "class Person:\n\n    def __init__(self, first, last):\n        self.firstname = first\n        self.lastname = last\n\n    def Name(self):\n        return self.firstname + \" \" + self.lastname\n\nclass Employee(Person):\n\n    def __init__(self, first, last, staffnum):\n        Person.__init__(self,first, last)\n        self.staffnumber = staffnum\n\n    def GetEmployee(self):\n        return self.Name() + \", \" +  self.staffnumber\n\nx = Person(\"Marge\", \"Simpson\")\ny = Employee(\"Homer\", \"Simpson\", \"1007\")\n\nprint(x.Name())\nprint(y.GetEmployee())",
      "execution_count": null,
      "outputs": []
    },
    {
      "metadata": {
        "trusted": true
      },
      "cell_type": "code",
      "source": "#Clase padre\nclass Geometry:\n    \n    def __init__(self):\n        self.area = 0\n        self.perimeter = 0\n        self.x = 0\n        self.y = 0",
      "execution_count": null,
      "outputs": []
    },
    {
      "metadata": {
        "trusted": true
      },
      "cell_type": "code",
      "source": "geom = Geometry()",
      "execution_count": null,
      "outputs": []
    },
    {
      "metadata": {
        "trusted": true
      },
      "cell_type": "code",
      "source": "class Square(Geometry):\n    \n    def __init__(self, L = 1):\n        self.L = L\n        self.area = L**2\n        self.perimeter = L*4\n\n\"\"\"\nTODO:\n Utilizando el concepto de herencia, resolver:\n 1. Clases Triangulo, Rectangulo y Circulo.\n\"\"\"",
      "execution_count": null,
      "outputs": []
    },
    {
      "metadata": {
        "trusted": true
      },
      "cell_type": "code",
      "source": "square1 = Square(3.2)\nprint(square1.area)\nprint(square1.perimeter)",
      "execution_count": null,
      "outputs": []
    },
    {
      "metadata": {},
      "cell_type": "markdown",
      "source": "<hr>\n\n## 2.2. Clases abstractas\n\n<a href=\"https://stackoverflow.com/questions/13646245/is-it-possible-to-make-abstract-classes-in-python\">link</a>"
    },
    {
      "metadata": {
        "trusted": true
      },
      "cell_type": "code",
      "source": "from abc import ABCMeta, abstractmethod",
      "execution_count": null,
      "outputs": []
    },
    {
      "metadata": {
        "trusted": true
      },
      "cell_type": "code",
      "source": "class Geometry:\n    __metaclass__ = ABCMeta\n    \n    def __init__():\n        self.area = 0\n        self.perimeter = 0\n        self.x = 0\n        self.y = 0\n    \n    @abstractmethod\n    def calc_area(self):\n        pass\n    \n    @abstractmethod\n    def calc_perimeter(self):\n        pass",
      "execution_count": null,
      "outputs": []
    },
    {
      "metadata": {
        "trusted": true
      },
      "cell_type": "code",
      "source": "class Square(Geometry):\n     \n    def __init__(self, L=1):\n        self.L = L\n        self.calc_area()\n        self.calc_perimeter()\n    \n    def calc_area(self):\n        self.area = self.L**2\n    \n    def calc_perimeter(self):\n        self.perimeter = self.L*4\n        \n    \"\"\"\n    TODO:\n        Utilizando el concepto de clase abstracta:\n        1. Construir las clases Triangulo, Rectangulo y Circulo\n    \"\"\"",
      "execution_count": null,
      "outputs": []
    },
    {
      "metadata": {
        "trusted": true
      },
      "cell_type": "code",
      "source": "geom = Geometry()",
      "execution_count": null,
      "outputs": []
    },
    {
      "metadata": {
        "trusted": true
      },
      "cell_type": "code",
      "source": "square1 = Square(2.3)\nprint(square1.area)\nprint(square1.perimeter)",
      "execution_count": null,
      "outputs": []
    },
    {
      "metadata": {},
      "cell_type": "markdown",
      "source": "<hr>\n\n# Reto en clase:\n\nUtilizando clases, crear un arbol."
    },
    {
      "metadata": {
        "trusted": true
      },
      "cell_type": "code",
      "source": "",
      "execution_count": null,
      "outputs": []
    }
  ],
  "metadata": {
    "kernelspec": {
      "name": "python2",
      "display_name": "Python 2",
      "language": "python"
    },
    "language_info": {
      "mimetype": "text/x-python",
      "nbconvert_exporter": "python",
      "name": "python",
      "pygments_lexer": "ipython2",
      "version": "2.7.15",
      "file_extension": ".py",
      "codemirror_mode": {
        "version": 2,
        "name": "ipython"
      }
    }
  },
  "nbformat": 4,
  "nbformat_minor": 1
}