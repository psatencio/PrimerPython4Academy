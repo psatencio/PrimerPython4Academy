{
  "cells": [
    {
      "metadata": {},
      "cell_type": "markdown",
      "source": "# Expresion de voltaje de una señal AM\n\\begin{align}\nPortadora:\nVc(t) &= Vc \\sin(\\omega_c*t) \\\\\nModulante: \nVm(t) &= Vm \\sin(\\omega_c*t)\n\\end{align}"
    },
    {
      "metadata": {
        "trusted": true
      },
      "cell_type": "code",
      "source": "",
      "execution_count": null,
      "outputs": []
    },
    {
      "metadata": {
        "trusted": true
      },
      "cell_type": "code",
      "source": "from datetime import datetime\nimport math\n#\nnow = datetime.now()\nmsg = \"Fecha: %s\"  % now.strftime(\"%A, %d %B, %Y\")\nprint(msg)\n#\n\nprint (\"Ejemplo de Python\")\nt=0.1e-3\nfc=1e3             #Frec\nVc=1               #Ampl\nm = Vc*math.sin(2*math.pi*fc*t)\nprint 'm: ', m",
      "execution_count": 60,
      "outputs": [
        {
          "output_type": "stream",
          "text": "Fecha: Thursday, 21 February, 2019\nEjemplo de Python\nm:  0.587785252292\n",
          "name": "stdout"
        }
      ]
    },
    {
      "metadata": {
        "trusted": true
      },
      "cell_type": "code",
      "source": "# ciclo Repetitivo, F= 9/5C+32\ni=0\nwhile (i<=10):\n    print i\n    i=i+1",
      "execution_count": 5,
      "outputs": [
        {
          "output_type": "stream",
          "text": "0\n1\n2\n3\n4\n5\n6\n7\n8\n9\n10\n",
          "name": "stdout"
        }
      ]
    },
    {
      "metadata": {
        "trusted": true
      },
      "cell_type": "code",
      "source": "a = [1,2,3,4,5]\nfor i in a:\n    print i\n#for (i=1 (i<=10))",
      "execution_count": 8,
      "outputs": [
        {
          "output_type": "stream",
          "text": "1\n2\n3\n4\n5\n",
          "name": "stdout"
        }
      ]
    },
    {
      "metadata": {
        "trusted": true
      },
      "cell_type": "code",
      "source": "a =range(10)\nprint a",
      "execution_count": 7,
      "outputs": [
        {
          "output_type": "stream",
          "text": "[0, 1, 2, 3, 4, 5, 6, 7, 8, 9]\n",
          "name": "stdout"
        }
      ]
    },
    {
      "metadata": {
        "trusted": true
      },
      "cell_type": "code",
      "source": "a =range(1,10,2) #imprime impares --> [0, n-1]\nprint a",
      "execution_count": 10,
      "outputs": [
        {
          "output_type": "stream",
          "text": "[1, 3, 5, 7, 9]\n",
          "name": "stdout"
        }
      ]
    },
    {
      "metadata": {
        "trusted": true
      },
      "cell_type": "code",
      "source": "n=10\nfor i in range (n+1):\n    print i",
      "execution_count": 11,
      "outputs": [
        {
          "output_type": "stream",
          "text": "0\n1\n2\n3\n4\n5\n6\n7\n8\n9\n10\n",
          "name": "stdout"
        }
      ]
    },
    {
      "metadata": {
        "trusted": true
      },
      "cell_type": "code",
      "source": "# Ejercicio ciclo Repetitivo, F= 9/5C+32\nfrom __future__ import division\nc=-10\nwhile (c<=20):\n    f=c*9/5+32\n    print (\"grados °C = %.2F  =  grados °F =  %.2F\" %(c,f))\n    c=c+2\n",
      "execution_count": 23,
      "outputs": [
        {
          "output_type": "stream",
          "text": "grados °C = -10.00  =  grados °F =  14.00\ngrados °C = -8.00  =  grados °F =  17.60\ngrados °C = -6.00  =  grados °F =  21.20\ngrados °C = -4.00  =  grados °F =  24.80\ngrados °C = -2.00  =  grados °F =  28.40\ngrados °C = 0.00  =  grados °F =  32.00\ngrados °C = 2.00  =  grados °F =  35.60\ngrados °C = 4.00  =  grados °F =  39.20\ngrados °C = 6.00  =  grados °F =  42.80\ngrados °C = 8.00  =  grados °F =  46.40\ngrados °C = 10.00  =  grados °F =  50.00\ngrados °C = 12.00  =  grados °F =  53.60\ngrados °C = 14.00  =  grados °F =  57.20\ngrados °C = 16.00  =  grados °F =  60.80\ngrados °C = 18.00  =  grados °F =  64.40\ngrados °C = 20.00  =  grados °F =  68.00\n",
          "name": "stdout"
        }
      ]
    },
    {
      "metadata": {
        "trusted": true
      },
      "cell_type": "code",
      "source": "# Ciclo for\nfor c in range(-20, 40+5,5): # range(inicio, fin+paso, paso)\n    f=c*9/5+32\n    print(\"%.1f °C = %.1f °F\" %(c,f))",
      "execution_count": 24,
      "outputs": [
        {
          "output_type": "stream",
          "text": "-20.0 °C = -4.0 °F\n-15.0 °C = 5.0 °F\n-10.0 °C = 14.0 °F\n-5.0 °C = 23.0 °F\n0.0 °C = 32.0 °F\n5.0 °C = 41.0 °F\n10.0 °C = 50.0 °F\n15.0 °C = 59.0 °F\n20.0 °C = 68.0 °F\n25.0 °C = 77.0 °F\n30.0 °C = 86.0 °F\n35.0 °C = 95.0 °F\n40.0 °C = 104.0 °F\n",
          "name": "stdout"
        }
      ]
    },
    {
      "metadata": {
        "trusted": true
      },
      "cell_type": "code",
      "source": "#Listas [e1,e2,e3....en]\nmilista=[0,10,-2,100,\"Fabio\", [1,2,100]]\nprint milista\nfor i in range(len(milista)):\n    print i\n    print \nprint milista[5]",
      "execution_count": 25,
      "outputs": [
        {
          "output_type": "stream",
          "text": "[0, 10, -2, 100, 'Fabio', [1, 2, 100]]\n0\n\n1\n\n2\n\n3\n\n4\n\n5\n\n[1, 2, 100]\n",
          "name": "stdout"
        }
      ]
    },
    {
      "metadata": {
        "trusted": true
      },
      "cell_type": "code",
      "source": "lista=[]\nfor i in range (10):\n    lista.append(i**2)\nprint lista",
      "execution_count": 27,
      "outputs": [
        {
          "output_type": "stream",
          "text": "[0, 1, 4, 9, 16, 25, 36, 49, 64, 81]\n",
          "name": "stdout"
        }
      ]
    },
    {
      "metadata": {
        "trusted": true
      },
      "cell_type": "code",
      "source": "l=[\"Fabio\", \"leon\", \"suarez\", \"A\"] # Push & Pop\nprint l.pop()",
      "execution_count": 9,
      "outputs": [
        {
          "output_type": "stream",
          "text": "leon\n",
          "name": "stdout"
        }
      ]
    },
    {
      "metadata": {
        "trusted": true
      },
      "cell_type": "code",
      "source": "#Ejemplo lista-crear un lista de listas\nfrom __future__ import division\nmilista=[]\nfor c in range(-20, 40+5,5): # range(inicio, fin+paso, paso)\n    f=c*9/5+32\n    milista.append([c,f]) #milista =[i, 9/5c+32]\n    #milista.append(f)\n    #print(\"%.1f °C = %.1f °F\" %(c,f))\nprint milista\nprint milista[0, (0)]",
      "execution_count": 17,
      "outputs": [
        {
          "output_type": "stream",
          "text": "[[-20, -4.0], [-15, 5.0], [-10, 14.0], [-5, 23.0], [0, 32.0], [5, 41.0], [10, 50.0], [15, 59.0], [20, 68.0], [25, 77.0], [30, 86.0], [35, 95.0], [40, 104.0]]\n",
          "name": "stdout"
        },
        {
          "output_type": "error",
          "ename": "TypeError",
          "evalue": "list indices must be integers, not tuple",
          "traceback": [
            "\u001b[0;31m\u001b[0m",
            "\u001b[0;31mTypeError\u001b[0mTraceback (most recent call last)",
            "\u001b[0;32m<ipython-input-17-1824da220948>\u001b[0m in \u001b[0;36m<module>\u001b[0;34m()\u001b[0m\n\u001b[1;32m      8\u001b[0m     \u001b[0;31m#print(\"%.1f °C = %.1f °F\" %(c,f))\u001b[0m\u001b[0;34m\u001b[0m\u001b[0;34m\u001b[0m\u001b[0m\n\u001b[1;32m      9\u001b[0m \u001b[0;32mprint\u001b[0m \u001b[0mmilista\u001b[0m\u001b[0;34m\u001b[0m\u001b[0m\n\u001b[0;32m---> 10\u001b[0;31m \u001b[0;32mprint\u001b[0m \u001b[0mmilista\u001b[0m\u001b[0;34m[\u001b[0m\u001b[0;36m0\u001b[0m\u001b[0;34m,\u001b[0m \u001b[0;34m(\u001b[0m\u001b[0;36m0\u001b[0m\u001b[0;34m)\u001b[0m\u001b[0;34m]\u001b[0m\u001b[0;34m\u001b[0m\u001b[0m\n\u001b[0m",
            "\u001b[0;31mTypeError\u001b[0m: list indices must be integers, not tuple"
          ]
        }
      ]
    },
    {
      "metadata": {
        "trusted": true
      },
      "cell_type": "code",
      "source": "#Comprehension, Sintaxis: [<elemento> for <elemento> in range ()]\nlista =[[c,c*9/5+32] for c in range(-20, 40+5,5)]\nprint lista",
      "execution_count": 38,
      "outputs": [
        {
          "output_type": "stream",
          "text": "[[-20, -4.0], [-15, 5.0], [-10, 14.0], [-5, 23.0], [0, 32.0], [5, 41.0], [10, 50.0], [15, 59.0], [20, 68.0], [25, 77.0], [30, 86.0], [35, 95.0], [40, 104.0]]\n",
          "name": "stdout"
        }
      ]
    },
    {
      "metadata": {
        "trusted": true
      },
      "cell_type": "code",
      "source": "# Diccionarios Sintaxis ==> {key(string): valor(abierto)}\nlistestudiante={\"Pedro\":[71582563, \"Atencio\", 32], \"Pepito\":[71555564, \"Perez\", 22]}\nprint listestudiante[\"Pepito\"]\nprint listestudiante.keys()",
      "execution_count": 43,
      "outputs": [
        {
          "output_type": "stream",
          "text": "[71555564, 'Perez', 22]\n['Pepito', 'Pedro']\n",
          "name": "stdout"
        }
      ]
    },
    {
      "metadata": {
        "trusted": true
      },
      "cell_type": "markdown",
      "source": "Tarea: centig 2 far"
    },
    {
      "metadata": {
        "trusted": true
      },
      "cell_type": "code",
      "source": "# Tarea: centig 2 far\nfrom __future__ import division\nmilista =[[c,c*9/5+32] for c in range(-20, 40+5,5)]; #Comprehension, Sintaxis: [<elemento> for <elemento> in range ()]\nprint milista\ntemp_dir={}\nfor i in range(len(milista)):\n    print i\n    temp_dir.append=({c: c*9/5+32})\n#print temp_dir[-20]\n#print listestudiante.keys()",
      "execution_count": 5,
      "outputs": [
        {
          "output_type": "stream",
          "text": "[[-20, -4], [-15, 5], [-10, 14], [-5, 23], [0, 32], [5, 41], [10, 50], [15, 59], [20, 68], [25, 77], [30, 86], [35, 95], [40, 104]]\n0\n1\n2\n3\n4\n5\n6\n7\n8\n9\n10\n11\n12\n",
          "name": "stdout"
        }
      ]
    },
    {
      "metadata": {
        "trusted": true
      },
      "cell_type": "code",
      "source": "import math\nsuma=0\nnum_iterac=100\nx=math.radians(90)\nfor n in range(num_iterac):\n   element = (-1)**2 /math.factorial(2*n*1)* (2*n+1)\nsuma = suma + element\nprint (suma)",
      "execution_count": 29,
      "outputs": [
        {
          "output_type": "stream",
          "text": "0.0\n",
          "name": "stdout"
        }
      ]
    },
    {
      "metadata": {},
      "cell_type": "markdown",
      "source": "CONDICIONAL (IF)\n__IF__ (CONDICION == EXPR BOOL):\n#!= diferente\nnot()"
    },
    {
      "metadata": {
        "trusted": true
      },
      "cell_type": "code",
      "source": "a=10\nif (a<10):\n    print (\"mensaje 1\")\nelse:\n    print (\"mensaje 2\")",
      "execution_count": 31,
      "outputs": [
        {
          "output_type": "stream",
          "text": "mensaje 2\n",
          "name": "stdout"
        }
      ]
    },
    {
      "metadata": {
        "trusted": true
      },
      "cell_type": "code",
      "source": "a=10\nif (a<10):\n    print (\"mensaje 1\")\nelif (a>10):\n    print (\"mensaje 2\")\nelse:\n    print (\"mensaje 3\")",
      "execution_count": 34,
      "outputs": [
        {
          "output_type": "stream",
          "text": "mensaje 3\n",
          "name": "stdout"
        }
      ]
    },
    {
      "metadata": {
        "trusted": true
      },
      "cell_type": "code",
      "source": "",
      "execution_count": null,
      "outputs": []
    },
    {
      "metadata": {},
      "cell_type": "markdown",
      "source": "Sintaxis de Funciones en Python\n__def__ nombre de la fn (param1,..., param_n)) #parametro es una vble local de la funcion\n    enun1\n    enun2\n    enun_n\n    return valor\n    "
    },
    {
      "metadata": {
        "trusted": true
      },
      "cell_type": "code",
      "source": "def suma(a,b):\n    if (type(a)==str or type(b)==str):\n        return None\n    else:\n        k=a+b\n    return k,a\n    #return [a,b,c]\nprint suma(9, -1) # argumento es un valor asignado a un parametro\n#print k\ns, h = suma(9, -2)\nprint s",
      "execution_count": 47,
      "outputs": [
        {
          "output_type": "stream",
          "text": "(8, 9)\n7\n",
          "name": "stdout"
        }
      ]
    },
    {
      "metadata": {
        "trusted": true
      },
      "cell_type": "code",
      "source": "from __future__ import division\ndef desp_cint(t, v0):\n    g=9.8\n    y=v0 *t-0.5*g-t**2\n    y_prima= v0-g*t\n    return y, y_prima\nt, v0 = desp_cint(2.5, 2.5)\nprint t\nprint v0",
      "execution_count": 51,
      "outputs": [
        {
          "output_type": "stream",
          "text": "-4.9\n-22.0\n",
          "name": "stdout"
        }
      ]
    },
    {
      "metadata": {
        "trusted": true
      },
      "cell_type": "code",
      "source": "a_dict[\"v0\":5, \"t\":5]\ndef ydydt(a_dict, g=9.8)\n    y=a_dict[\"v0\"]*a_dict[t]-0.5*g*a_dict[\"t\"]**2\n    return y\nprint ",
      "execution_count": null,
      "outputs": []
    },
    {
      "metadata": {},
      "cell_type": "markdown",
      "source": "RECURSIVIDAD\nFIBONACCI\nF0=0\nF1=1\nF2=F0+F1\nF3=F2+F1"
    },
    {
      "metadata": {
        "trusted": true
      },
      "cell_type": "code",
      "source": "def fibon(n):\n    if(n==0):\n        return 0\n    elif(n==1):\n        return 1\n    else:\n        return(fibon(n-1)+fibon(n-2))\nfibon(10)",
      "execution_count": 54,
      "outputs": [
        {
          "output_type": "execute_result",
          "execution_count": 54,
          "data": {
            "text/plain": "55"
          },
          "metadata": {}
        }
      ]
    },
    {
      "metadata": {},
      "cell_type": "markdown",
      "source": "Listar todos los numeros naturales menores que 10 que son múltiplos de 3 o 5 tenemos:  3,5,6,9. La suma de estos valores es 23"
    },
    {
      "metadata": {
        "trusted": true
      },
      "cell_type": "code",
      "source": "suma =0\nfor i in range (3, 10):\n    if (i%3 ==0 or i%5==0):\n        print i\n        suma=suma +i\nprint suma",
      "execution_count": 35,
      "outputs": [
        {
          "output_type": "stream",
          "text": "3\n5\n6\n9\n23\n",
          "name": "stdout"
        }
      ]
    },
    {
      "metadata": {},
      "cell_type": "markdown",
      "source": "ej. 3 Utilizar listas anidadas para generar una matriz  𝑀  de tamaño  𝑁×𝑁 , esto es,  𝑀𝑁×𝑁 , donde  𝑀𝑖,𝑗=𝑖+1∗𝑗+1"
    },
    {
      "metadata": {
        "trusted": true
      },
      "cell_type": "code",
      "source": "n=4\ntabla=[]\ndato=0\nfor fila in range (n):\n    # m.append(i+1*j+1)\n    for col in range (n):\n        #dato= i+1*j+1\n        #tabla[fila][col] = dato\n        tabla.append(dato)\n        #print(tabla[fila],m[col])\n        dato= dato+1\nprint tabla\nfor i in range(n):\n    for j in range(n):\n        print tabla[i][j],\n    print ",
      "execution_count": 78,
      "outputs": [
        {
          "output_type": "stream",
          "text": "[0, 1, 2, 3, 4, 5, 6, 7, 8, 9, 10, 11, 12, 13, 14, 15]\n",
          "name": "stdout"
        },
        {
          "output_type": "error",
          "ename": "TypeError",
          "evalue": "'int' object has no attribute '__getitem__'",
          "traceback": [
            "\u001b[0;31m\u001b[0m",
            "\u001b[0;31mTypeError\u001b[0mTraceback (most recent call last)",
            "\u001b[0;32m<ipython-input-78-069f4349f470>\u001b[0m in \u001b[0;36m<module>\u001b[0;34m()\u001b[0m\n\u001b[1;32m     13\u001b[0m \u001b[0;32mfor\u001b[0m \u001b[0mi\u001b[0m \u001b[0;32min\u001b[0m \u001b[0mrange\u001b[0m\u001b[0;34m(\u001b[0m\u001b[0mn\u001b[0m\u001b[0;34m)\u001b[0m\u001b[0;34m:\u001b[0m\u001b[0;34m\u001b[0m\u001b[0m\n\u001b[1;32m     14\u001b[0m     \u001b[0;32mfor\u001b[0m \u001b[0mj\u001b[0m \u001b[0;32min\u001b[0m \u001b[0mrange\u001b[0m\u001b[0;34m(\u001b[0m\u001b[0mn\u001b[0m\u001b[0;34m)\u001b[0m\u001b[0;34m:\u001b[0m\u001b[0;34m\u001b[0m\u001b[0m\n\u001b[0;32m---> 15\u001b[0;31m         \u001b[0;32mprint\u001b[0m \u001b[0mtabla\u001b[0m\u001b[0;34m[\u001b[0m\u001b[0mi\u001b[0m\u001b[0;34m]\u001b[0m\u001b[0;34m[\u001b[0m\u001b[0mj\u001b[0m\u001b[0;34m]\u001b[0m\u001b[0;34m\u001b[0m\u001b[0m\n\u001b[0m\u001b[1;32m     16\u001b[0m     \u001b[0;32mprint\u001b[0m\u001b[0;34m\u001b[0m\u001b[0m\n",
            "\u001b[0;31mTypeError\u001b[0m: 'int' object has no attribute '__getitem__'"
          ]
        }
      ]
    },
    {
      "metadata": {},
      "cell_type": "markdown",
      "source": "# TAREA: LA CRIBA DE ERATOSTENES"
    },
    {
      "metadata": {
        "trusted": true
      },
      "cell_type": "code",
      "source": "n=100\n#crear lista\n#criba=[]\ncriba = range (2, n) \nprint (criba)\ni=0\nl=len(criba)\nprint l\nwhile ((criba[i]**2) <n):\n    #print criba[i]\n    for k in range(i+1, l):\n        #print criba[k]\n        if (criba[k] != None and criba[i]!= None):\n            if ((criba[k] % criba[i]) == 0):\n                criba [k] = None\n    #print criba[i]\n    i=i+1\n    while criba[i]==None:\n        i=i+1\nprint (criba)\nl=len(criba)\nprint l\nprimos = []\nfor i in range (l):\n    if (criba[i] != None):\n        primos.append(criba[i])\nprint (primos)\nprint (len(primos))\n#\n#primos = [(criba[x] != None) for x in range(l)]\n#print primos\n#i=0\n#while (i<=l):\n #   if (criba[i] == None):\n  #      criba.remove(None)\n   #     l=len(criba)-1\n    ##i=i+1   \n#print (criba)\n#print l",
      "execution_count": 6,
      "outputs": [
        {
          "output_type": "stream",
          "text": "[2, 3, 4, 5, 6, 7, 8, 9, 10, 11, 12, 13, 14, 15, 16, 17, 18, 19, 20, 21, 22, 23, 24, 25, 26, 27, 28, 29, 30, 31, 32, 33, 34, 35, 36, 37, 38, 39, 40, 41, 42, 43, 44, 45, 46, 47, 48, 49, 50, 51, 52, 53, 54, 55, 56, 57, 58, 59, 60, 61, 62, 63, 64, 65, 66, 67, 68, 69, 70, 71, 72, 73, 74, 75, 76, 77, 78, 79, 80, 81, 82, 83, 84, 85, 86, 87, 88, 89, 90, 91, 92, 93, 94, 95, 96, 97, 98, 99]\n98\n[2, 3, None, 5, None, 7, None, None, None, 11, None, 13, None, None, None, 17, None, 19, None, None, None, 23, None, None, None, None, None, 29, None, 31, None, None, None, None, None, 37, None, None, None, 41, None, 43, None, None, None, 47, None, None, None, None, None, 53, None, None, None, None, None, 59, None, 61, None, None, None, None, None, 67, None, None, None, 71, None, 73, None, None, None, None, None, 79, None, None, None, 83, None, None, None, None, None, 89, None, None, None, None, None, None, None, 97, None, None]\n98\n[2, 3, 5, 7, 11, 13, 17, 19, 23, 29, 31, 37, 41, 43, 47, 53, 59, 61, 67, 71, 73, 79, 83, 89, 97]\n25\n",
          "name": "stdout"
        }
      ]
    },
    {
      "metadata": {
        "trusted": true
      },
      "cell_type": "code",
      "source": "n=100\n#crear lista\n#criba=[]\ncriba= range (2, n) \nprint (criba)\nn=100\ni=0\nl=len(criba)\nprint l\nwhile ((criba[i]**2) < n):\n    #print criba[i]\n    for k in range(i+1, l):\n        #print criba[k]\n        if (criba[k] != None):\n            if ((criba[k] % criba[i]) == 0):\n                criba [k] = None\n    print criba[i]\n    i=i+1\nprint (criba)",
      "execution_count": null,
      "outputs": []
    },
    {
      "metadata": {
        "trusted": true
      },
      "cell_type": "code",
      "source": "",
      "execution_count": null,
      "outputs": []
    },
    {
      "metadata": {
        "trusted": true
      },
      "cell_type": "code",
      "source": "",
      "execution_count": null,
      "outputs": []
    }
  ],
  "metadata": {
    "kernelspec": {
      "name": "python2",
      "display_name": "Python 2",
      "language": "python"
    },
    "language_info": {
      "mimetype": "text/x-python",
      "nbconvert_exporter": "python",
      "name": "python",
      "pygments_lexer": "ipython2",
      "version": "2.7.15",
      "file_extension": ".py",
      "codemirror_mode": {
        "version": 2,
        "name": "ipython"
      }
    }
  },
  "nbformat": 4,
  "nbformat_minor": 2
}